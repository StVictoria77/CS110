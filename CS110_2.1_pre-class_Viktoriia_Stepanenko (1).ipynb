{
 "cells": [
  {
   "cell_type": "markdown",
   "metadata": {
    "collapsed": false
   },
   "source": [
    "Before you turn this problem in, make sure everything runs as expected. First, **restart the kernel** (in the menubar, select Kernel$\\rightarrow$Restart) and then **run all cells** (in the menubar, select Cell$\\rightarrow$Run All).\n",
    "\n",
    "Note that this Pre-class Work is estimated to take **50 minutes**.\n",
    "\n",
    "Make sure you fill in any place that says `YOUR CODE HERE` or \"YOUR ANSWER HERE\", as well as your name and collaborators below:"
   ]
  },
  {
   "cell_type": "code",
   "execution_count": 0,
   "metadata": {
    "collapsed": false
   },
   "outputs": [
   ],
   "source": [
    "NAME = \"Viktoriia Stepanenko\"\n",
    "COLLABORATORS = \"----\""
   ]
  },
  {
   "cell_type": "markdown",
   "metadata": {
    "collapsed": false
   },
   "source": [
    "---"
   ]
  },
  {
   "cell_type": "markdown",
   "metadata": {
    "collapsed": false,
    "deletable": false,
    "editable": false,
    "nbgrader": {
     "checksum": "df135f0c4ea26cc7c0b25cb64a20e634",
     "grade": false,
     "grade_id": "cell-b46066345313bea6",
     "locked": true,
     "schema_version": 1,
     "solution": false
    }
   },
   "source": [
    "# CS110 Pre-class Work - Analyzing elementary sorting algorithms\n",
    "\n",
    "\n",
    "\n",
    "## Question 1 [time estimate: 10 minutes]\n",
    "The following pseudocode has been extracted from Cormen et al. You should analyze the lines of the pseudocode trying to understand what every line in the pseudocode does and how many times is that line executed. \n",
    "![Insertion sort pseudo-code](insertionsort_pseudo.png)\n",
    "\n",
    "Answer the following questions: What does line 7 do? Why is it necessary?"
   ]
  },
  {
   "cell_type": "markdown",
   "metadata": {
    "collapsed": false,
    "deletable": false,
    "nbgrader": {
     "checksum": "104f443d240e2139d778711f6bc0a766",
     "grade": true,
     "grade_id": "cell-3bac59ff24b11a27",
     "locked": false,
     "points": 0,
     "schema_version": 1,
     "solution": true
    }
   },
   "source": [
    "This line ensures that when we are moving the element in the attempts to find its place, while the comparison loop runs, we examine, say, second and third element on the left as well, not just the first one. By changing the index and making it smaller, we move to the left and check whether our current key element (e.g. with previous index 3) is smaller than the element with index 2, and if it is, then we move A[2] on the place where our key initially was and check the element with index 1 (if our key is smaller than this one too, then we move this element to the right as well). Thus, this line ensures that we check all the relevant elements while the loop runs."
   ]
  },
  {
   "cell_type": "markdown",
   "metadata": {
    "collapsed": false,
    "deletable": false,
    "editable": false,
    "nbgrader": {
     "checksum": "7872c2d656a6cb3aaeff2b4fa41eb204",
     "grade": false,
     "grade_id": "cell-0ca65d04b209f37f",
     "locked": true,
     "schema_version": 1,
     "solution": false
    }
   },
   "source": [
    "## Question 2 [time estimate: 15 minutes]\n",
    "The following Python code is an attempt to implement the Insertion-Sort pseudocode above. However, this code has a bug. \n"
   ]
  },
  {
   "cell_type": "code",
   "execution_count": 3,
   "metadata": {
    "collapsed": false,
    "deletable": false,
    "editable": false,
    "nbgrader": {
     "checksum": "8e004cd5b12aee0ecf19786bc1a71d81",
     "grade": false,
     "grade_id": "cell-348fe9383ed7e0c7",
     "locked": true,
     "schema_version": 1,
     "solution": false
    }
   },
   "outputs": [
   ],
   "source": [
    "def insertion_sort(A):\n",
    "    for j in range(2, len(A)):\n",
    "        key = A[j]\n",
    "        i= j-1\n",
    "        while i >= 0 and A[i]>key:\n",
    "            A[i+1] = A[i]\n",
    "            i -= 1\n",
    "        A[i+1] = key\n",
    "    return A"
   ]
  },
  {
   "cell_type": "markdown",
   "metadata": {
    "collapsed": false,
    "deletable": false,
    "editable": false,
    "nbgrader": {
     "checksum": "19a9183b993f6180d79385fed5dd07ee",
     "grade": false,
     "grade_id": "cell-16653cdc16be28b9",
     "locked": true,
     "schema_version": 1,
     "solution": false
    }
   },
   "source": [
    "Copy and paste the code in the cell below. Identify and correct the bug. "
   ]
  },
  {
   "cell_type": "code",
   "execution_count": 17,
   "metadata": {
    "collapsed": false,
    "deletable": false,
    "nbgrader": {
     "checksum": "7c22d14f97eaad956abf7dae17c7317f",
     "grade": false,
     "grade_id": "cell-1b7488e89cb501c5",
     "locked": false,
     "schema_version": 1,
     "solution": true
    }
   },
   "outputs": [
    {
     "name": "stdout",
     "output_type": "stream",
     "text": [
      "key is 2\n",
      "i is 0\n",
      "A[i+1] is 2\n",
      "A[i] is 10\n",
      "[10, 10, 7, 5, 3, 6]\n",
      "i on the 2nd step is -1\n",
      "[2, 10, 7, 5, 3, 6]\n",
      "key is 7\n",
      "i is 1\n",
      "A[i+1] is 7\n",
      "A[i] is 10\n",
      "[2, 10, 10, 5, 3, 6]\n",
      "i on the 2nd step is 0\n",
      "[2, 7, 10, 5, 3, 6]\n",
      "key is 5\n",
      "i is 2\n",
      "A[i+1] is 5\n",
      "A[i] is 10\n",
      "[2, 7, 10, 10, 3, 6]\n",
      "i on the 2nd step is 1\n",
      "A[i+1] is 10\n",
      "A[i] is 7\n",
      "[2, 7, 7, 10, 3, 6]\n",
      "i on the 2nd step is 0\n",
      "[2, 5, 7, 10, 3, 6]\n",
      "key is 3\n",
      "i is 3\n",
      "A[i+1] is 3\n",
      "A[i] is 10\n",
      "[2, 5, 7, 10, 10, 6]\n",
      "i on the 2nd step is 2\n",
      "A[i+1] is 10\n",
      "A[i] is 7\n",
      "[2, 5, 7, 7, 10, 6]\n",
      "i on the 2nd step is 1\n",
      "A[i+1] is 7\n",
      "A[i] is 5\n",
      "[2, 5, 5, 7, 10, 6]\n",
      "i on the 2nd step is 0\n",
      "[2, 3, 5, 7, 10, 6]\n",
      "key is 6\n",
      "i is 4\n",
      "A[i+1] is 6\n",
      "A[i] is 10\n",
      "[2, 3, 5, 7, 10, 10]\n",
      "i on the 2nd step is 3\n",
      "A[i+1] is 10\n",
      "A[i] is 7\n",
      "[2, 3, 5, 7, 7, 10]\n",
      "i on the 2nd step is 2\n",
      "[2, 3, 5, 6, 7, 10]\n"
     ]
    },
    {
     "data": {
      "text/plain": [
       "[2, 3, 5, 6, 7, 10]"
      ]
     },
     "execution_count": 17,
     "metadata": {
     },
     "output_type": "execute_result"
    }
   ],
   "source": [
    "def insertion_sort(A):\n",
    "    for j in range(1, len(A)): #!this loop goes through all the elements of the list correctly now!\n",
    "        \n",
    "        #THE BUG: the loop was starting from 3nd element of the list instead of 2nd, although we know that in Python the count of indeces starts from 0, and not 1. Thus, to start this loop correctly, we need to set the starting point of the range to 1 (so that we start with comparing the 2nd element with the first)\n",
    "        \n",
    "        key = A[j] #store the value of the element we're testing\n",
    "        print('key is', key)\n",
    "        i = j-1 #store the index of the element on the left from where the element we're testing is initially located | the index of the element we will be comparing to\n",
    "        while i >= 0 and A[i]>key: #1. till we reach the start of the list in our comparisons; 2. till the element on the left is larger than our element -> keep reshuffling the elements\n",
    "            A[i+1] = A[i] #move the element that was on the left to our initial position (or the position that belonged to the element of A[i+1] in the moment of the restart of the loop)\n",
    "            i -= 1 #move to the element on the left for the examination\n",
    "        A[i+1] = key #put the element we were searching the place for on the place that was \"freed\" for it by shuffling the elements from the left that were larger than it to the right\n",
    "        print(A) #for me to check out how the algorithm shuffles the list\n",
    "    return A #return sorted list\n",
    "    raise NotImplementedError()\n",
    "\n",
    "insertion_sort([10,2,7,5,3,6]) #tested and got the correct result. Before fixing the bug, all the elements were returned sorted, besides 10."
   ]
  },
  {
   "cell_type": "code",
   "execution_count": 5,
   "metadata": {
    "collapsed": false,
    "deletable": false,
    "editable": false,
    "nbgrader": {
     "checksum": "4ff6145033c64da48f2a44f040b2c1b7",
     "grade": true,
     "grade_id": "cell-3432ce8ae2493fa6",
     "locked": true,
     "points": 1,
     "schema_version": 1,
     "solution": false
    }
   },
   "outputs": [
   ],
   "source": [
    "assert(insertion_sort([0]) == [0])\n",
    "assert(insertion_sort([-1,1]) == [-1,1])\n",
    "assert(insertion_sort([1,-1]) == [-1,1])\n",
    "assert(insertion_sort([1,6,3,6]) == [1,3,6,6])\n",
    "assert(insertion_sort([7, 3, 5, 4, 6, 4]) == [3, 4, 4, 5, 6, 7])"
   ]
  },
  {
   "cell_type": "markdown",
   "metadata": {
    "collapsed": false,
    "deletable": false,
    "editable": false,
    "nbgrader": {
     "checksum": "a25900fe2fba8d1695b31865625ec1eb",
     "grade": false,
     "grade_id": "cell-1399c3a86cc2dd7c",
     "locked": true,
     "schema_version": 1,
     "solution": false
    }
   },
   "source": [
    "How do you know this code works as intended now?"
   ]
  },
  {
   "cell_type": "markdown",
   "metadata": {
    "collapsed": false,
    "deletable": false,
    "nbgrader": {
     "checksum": "4ff5af35daed9a5442ba229263bdde33",
     "grade": true,
     "grade_id": "cell-442998d5fdd8b561",
     "locked": false,
     "points": 0,
     "schema_version": 1,
     "solution": true
    }
   },
   "source": [
    "Besides me trying things out myself and seeing the algorithm working - the assert() function returns nothing, meaning the condition (that the input into the function produces the expected output) is True. If that would not be the case, it would raise an Assertion error."
   ]
  },
  {
   "cell_type": "markdown",
   "metadata": {
    "collapsed": false,
    "deletable": false,
    "editable": false,
    "nbgrader": {
     "checksum": "9d7a3b260b0fef93382fb52aa393f963",
     "grade": false,
     "grade_id": "cell-0ac1c20b43acb363",
     "locked": true,
     "schema_version": 1,
     "solution": false
    }
   },
   "source": [
    "## Question 3 [time estimate: 15 minutes]\n",
    "Implement the bubble sort algorithm in the cell below. First, look up the corresponding pseudocode in Cormen et al. (page 40), and write a Python implementation for the bubble sort.  Like in the `insertion_sort`,  your new Python function, `bubble_sort`, takes a list of elements as an argument and returns the sorted list."
   ]
  },
  {
   "cell_type": "code",
   "execution_count": 12,
   "metadata": {
    "collapsed": false,
    "deletable": false,
    "nbgrader": {
     "checksum": "16ff8874250907a794fdd3fa6c13bbec",
     "grade": false,
     "grade_id": "cell-b709733c96d8b615",
     "locked": false,
     "schema_version": 1,
     "solution": true
    }
   },
   "outputs": [
    {
     "name": "stdout",
     "output_type": "stream",
     "text": [
      "[2, 5, 6, 1, 4, 9]\n",
      "[2, 5, 1, 6, 4, 9]\n",
      "[2, 1, 5, 6, 4, 9]\n",
      "[1, 2, 5, 6, 4, 9]\n",
      "[1, 2, 5, 4, 6, 9]\n",
      "[1, 2, 4, 5, 6, 9]\n",
      "[8, 3, 1, 5, 7]\n",
      "[8, 1, 3, 5, 7]\n",
      "[1, 8, 3, 5, 7]\n",
      "[1, 3, 8, 5, 7]\n",
      "[1, 3, 5, 8, 7]\n",
      "[1, 3, 5, 7, 8]\n",
      "[10, 30, 90, 100]\n"
     ]
    }
   ],
   "source": [
    "#pseudo-code:\n",
    "#BUBBLESORT(A)\n",
    "#for i=1 to A.length-1\n",
    "#for j=A.length downto i+1\n",
    "#if A[j]<A[j-1]\n",
    "#exchange A[j] with A[j-1]\n",
    "\n",
    "def bubble_sort(A):\n",
    "    for i in range(0, len(A)-1): #!I have changed the i as a starting point from 1 to 0 here :/ Unsure if that was meant to be a bug or not, but it worked better for me in practice, so I left it be and highlighted for myself to double-check and ask about later. If I would leave 1 to be, then my code would not account for the first element of the list at all. Now this code goes through all of them.!\n",
    "        for j in reversed(range(i+1, len(A))): #j starts the count from the end of the list\n",
    "            if A[j]<A[j-1]: #if our element is smaller than the element on the left - swap their places\n",
    "                key=A[j]\n",
    "                A[j]=A[j-1]\n",
    "                A[j-1]=key\n",
    "                print(A) #for me to check out how the algorithm shuffles the list\n",
    "            else:\n",
    "                continue\n",
    "    return A\n",
    "    raise NotImplementedError()\n",
    "\n",
    "assert(bubble_sort([2,5,6,1,9,4]) == [1,2,4,5,6,9])\n",
    "assert(bubble_sort([8,3,1,7,5]) == [1,3,5,7,8])\n",
    "assert(bubble_sort([10,90,30,100]) == [10,30,90,100])"
   ]
  },
  {
   "cell_type": "code",
   "execution_count": 0,
   "metadata": {
    "collapsed": false,
    "deletable": false,
    "editable": false,
    "nbgrader": {
     "checksum": "e7dc1709a92c6bcac7df39da1771e649",
     "grade": true,
     "grade_id": "cell-ffc9b251ea0047ba",
     "locked": true,
     "points": 2,
     "schema_version": 1,
     "solution": false
    }
   },
   "outputs": [
   ],
   "source": [
    "# Please ignore this cell. This cell is for us to implement the tests \n",
    "# to see if your code works properly. "
   ]
  },
  {
   "cell_type": "markdown",
   "metadata": {
    "collapsed": false,
    "deletable": false,
    "editable": false,
    "nbgrader": {
     "checksum": "eae899834db5b5ff1b2b1d67d8ef5929",
     "grade": false,
     "grade_id": "cell-60a96a427cd3e94e",
     "locked": true,
     "schema_version": 1,
     "solution": false
    }
   },
   "source": [
    "Is your program bug-free? Think of three different [“test cases”](https://www.hiredintech.com/classrooms/algorithm-design/lesson/83) to check the correctness of your code. If a code passes the tests you have just outlined, is this an unambiguous proof that the code is correct? Give your answer in the cell below. Feel free to use additional cells (Markdown or Code) as you wish."
   ]
  },
  {
   "cell_type": "markdown",
   "metadata": {
    "collapsed": false,
    "deletable": false,
    "nbgrader": {
     "checksum": "eb02c9951e19ee43d128fa93dd53eaad",
     "grade": true,
     "grade_id": "cell-5ecb51404140cb2f",
     "locked": false,
     "points": 0,
     "schema_version": 1,
     "solution": true
    }
   },
   "source": [
    "You can see my test cases above and see that the code passes all of them.\n",
    "You can say my program is bug-free, since it solves the problem I want it to solve correctly, but whether it is correct depends on the definition of correct. Since I have made my own adjustments and there is no guarantee that my code perfectly implements intended pseudo-code (I may have misinterpreted the instructions), then there is a question of whether it is correct in the sense of: \"Does it produce the intended algorithm correctly?\". From seeing the way my algorithm works, I hope that yes."
   ]
  },
  {
   "cell_type": "markdown",
   "metadata": {
    "collapsed": false,
    "deletable": false,
    "editable": false,
    "nbgrader": {
     "checksum": "cb0b8b9c4b153530d47b437baa24098d",
     "grade": false,
     "grade_id": "cell-b22dce6b32afe1a9",
     "locked": true,
     "schema_version": 1,
     "solution": false
    }
   },
   "source": [
    "## Question 4 [time estimate: 10 minutes]\n",
    "The following pseudocode corresponds to a third sorting algorithm covered in this lesson, the selection sort.  Like in the previous step, write a Python implementation of the algorithm and make sure that your program is bug-free by providing at least three test cases. `selection_sort` should take a list of elements as an argument and return the sorted list.\n",
    "\n",
    "![Selection sort pseudo-code](selectionsort_pseudo.png)"
   ]
  },
  {
   "cell_type": "code",
   "execution_count": 11,
   "metadata": {
    "collapsed": false,
    "deletable": false,
    "nbgrader": {
     "checksum": "2f4365879ed0fd5b360bc25f4795c113",
     "grade": false,
     "grade_id": "cell-e04f94e5d418923c",
     "locked": false,
     "schema_version": 1,
     "solution": true
    }
   },
   "outputs": [
    {
     "name": "stdout",
     "output_type": "stream",
     "text": [
      "[1, 5, 6, 2, 9, 4]\n",
      "[1, 2, 6, 5, 9, 4]\n",
      "[1, 2, 4, 5, 9, 6]\n",
      "[1, 2, 4, 5, 9, 6]\n",
      "[1, 2, 4, 5, 6, 9]\n",
      "[1, 3, 8, 7, 5]\n",
      "[1, 3, 8, 7, 5]\n",
      "[1, 3, 5, 7, 8]\n",
      "[1, 3, 5, 7, 8]\n",
      "[10, 90, 30, 100]\n",
      "[10, 30, 90, 100]\n",
      "[10, 30, 90, 100]\n"
     ]
    }
   ],
   "source": [
    "#SELECTION-SORT(A)\n",
    "#n=A.length\n",
    "#for i=1 to n-1\n",
    "#minidx = i\n",
    "#for j=i+1 to n\n",
    "#if A[j]<A[minidx] then\n",
    "#minidx = j\n",
    "#swap A[i] with A[minidx]\n",
    "\n",
    "def selection_sort(A):\n",
    "    n=len(A)\n",
    "    for i in range(0, n-1): #changed the starting point once again, for the same purposes as before (the algorithm starts actually fulfilling its purpose) :/\n",
    "        minidx=i #index of the first element of the unsorted part of the row and the \"min\" that we take just as a guess and later compare to other numbers and reevaluate which one is the real min\n",
    "        for j in range(i+1, n): #go through all the other elements to check whether we need to change our judgement on what is the real min in this try\n",
    "            if A[j]<A[minidx]: #if the element we are checking in this try is smaller than what we thought was min, reassign what the min is\n",
    "                minidx=j\n",
    "            else:\n",
    "                continue\n",
    "        key=A[minidx] #once we have determined the real min, swap the places of this min with our previous guess\n",
    "        A[minidx]=A[i]\n",
    "        A[i]=key\n",
    "        print(A) #for me to check out how the algorithm shuffles the list\n",
    "\n",
    "    return A\n",
    "    raise NotImplementedError()\n",
    "\n",
    "assert(selection_sort([2,5,6,1,9,4]) == [1,2,4,5,6,9]) #all the tests seem to work fine\n",
    "assert(selection_sort([8,3,1,7,5]) == [1,3,5,7,8])\n",
    "assert(selection_sort([10,90,30,100]) == [10,30,90,100])"
   ]
  },
  {
   "cell_type": "code",
   "execution_count": 0,
   "metadata": {
    "collapsed": false,
    "deletable": false,
    "editable": false,
    "nbgrader": {
     "checksum": "352859ddf81204abd5eb3d91570919c7",
     "grade": true,
     "grade_id": "cell-ffe912ac7922de70",
     "locked": true,
     "points": 1,
     "schema_version": 1,
     "solution": false
    }
   },
   "outputs": [
   ],
   "source": [
    "# Please ignore this cell. This cell is for us to implement the tests \n",
    "# to see if your code works properly. "
   ]
  },
  {
   "cell_type": "markdown",
   "metadata": {
    "collapsed": false,
    "deletable": false,
    "editable": false,
    "nbgrader": {
     "checksum": "2305488ea190bf7b0347891f06164775",
     "grade": false,
     "grade_id": "cell-7ff8930bd7d30706",
     "locked": true,
     "schema_version": 1,
     "solution": false
    }
   },
   "source": [
    "**Please make sure you try your best to code insertion sort, selection sort and bubble sort, and bring these programs to class. You will need them for a class activity.**"
   ]
  }
 ],
 "metadata": {
  "kernelspec": {
   "display_name": "Python 3 (system-wide)",
   "language": "python",
   "metadata": {
    "cocalc": {
     "description": "Python 3 programming language",
     "priority": 100,
     "url": "https://www.python.org/"
    }
   },
   "name": "python3"
  },
  "language_info": {
   "codemirror_mode": {
    "name": "ipython",
    "version": 3
   },
   "file_extension": ".py",
   "mimetype": "text/x-python",
   "name": "python",
   "nbconvert_exporter": "python",
   "pygments_lexer": "ipython3",
   "version": "3.8.2"
  }
 },
 "nbformat": 4,
 "nbformat_minor": 4
}