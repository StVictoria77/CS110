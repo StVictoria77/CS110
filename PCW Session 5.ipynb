{
 "cells": [
  {
   "cell_type": "markdown",
   "metadata": {
    "collapsed": false
   },
   "source": [
    "Before you turn this problem in, make sure everything runs as expected. First, **restart the kernel** (in the menubar, select Kernel$\\rightarrow$Restart) and then **run all cells** (in the menubar, select Cell$\\rightarrow$Run All).\n",
    "\n",
    "Note that this Pre-class Work is estimated to take **1 hour and 30 minutes**.\n",
    "\n",
    "Make sure you fill in any place that says `YOUR CODE HERE` or \"YOUR ANSWER HERE\", as well as your name and collaborators below:"
   ]
  },
  {
   "cell_type": "code",
   "execution_count": 18,
   "metadata": {
    "collapsed": false
   },
   "outputs": [
   ],
   "source": [
    "NAME = \"Viktoriia Stepanenko\"\n",
    "COLLABORATORS = \"------------\""
   ]
  },
  {
   "cell_type": "markdown",
   "metadata": {
    "collapsed": false
   },
   "source": [
    "---"
   ]
  },
  {
   "cell_type": "markdown",
   "metadata": {
    "collapsed": false,
    "deletable": false,
    "editable": false,
    "nbgrader": {
     "checksum": "ff3288a2b0acfc2e2f917a549d038e5c",
     "grade": false,
     "grade_id": "cell-9e44910e5a73668d",
     "locked": true,
     "schema_version": 1,
     "solution": false
    }
   },
   "source": [
    "# CS110 Pre-class Work - Mergesort and recurrences\n",
    "\n",
    "## Question 1 [time estimate: 20 minutes]\n",
    "\n",
    "First, please read carefully [this note](https://drive.google.com/open?id=1SfrRTKWDb6szsJENgvNF7-u2B96ecaF2), which reviews the MERGE operation in Cormen et al.\n",
    "\n",
    "After reviewing the example above (Cormen et al., Figure 2.3),  you need to manually create similar illustrations as in the example above but this time for the input array:\n",
    "\n",
    "![array](array.png)\n",
    "\n",
    "For this exercise, assume that the call to the algorithm is MERGE(A, 1, 3, 6) and draw different resulting stages of the arrays A, L, and R as the merge algorithm is executed.  You can hand-draw or use any drawing tool to produce panel illustrations, as in the example above.  Include your final drawings in the cell below. Feel free to use additional cells (Markdown or Code) for this question.\n"
   ]
  },
  {
   "cell_type": "markdown",
   "metadata": {
    "collapsed": false,
    "deletable": false,
    "nbgrader": {
     "checksum": "b4d0caf51fb6b587f68db4e806af35d0",
     "grade": true,
     "grade_id": "cell-badbff7790708987",
     "locked": false,
     "points": 0,
     "schema_version": 1,
     "solution": true
    }
   },
   "source": [
    "https://drive.google.com/file/d/1Jj8hAhvYoBMNCkZ2VYTD7GMEAK2u2JOd/view?usp=sharing (to not worry too much about losing the image)"
   ]
  },
  {
   "cell_type": "markdown",
   "metadata": {
    "collapsed": false,
    "deletable": false,
    "editable": false,
    "nbgrader": {
     "checksum": "7c9608898d23ecbe07c084ca6d6da655",
     "grade": false,
     "grade_id": "cell-6dd1317d1ea8ab9f",
     "locked": true,
     "schema_version": 1,
     "solution": false
    }
   },
   "source": [
    "## Question 2 [time estimate: 5 minutes]\n",
    "Now using your understanding of Part I of the merge algorithm, can you think of an efficient way to implement this part in Python? (hint: using Python lists). Give your answer in prose in the cell below."
   ]
  },
  {
   "cell_type": "markdown",
   "metadata": {
    "collapsed": false,
    "deletable": false,
    "nbgrader": {
     "checksum": "9bf35550640c33f366c5cffad7fdf33a",
     "grade": true,
     "grade_id": "cell-4f961721620a6645",
     "locked": false,
     "points": 0,
     "schema_version": 1,
     "solution": true
    }
   },
   "source": [
    "Besides doing something that is following provided pseudocode:\n",
    "1. Determine the middle of the list.\n",
    "2. Use the index of the middle to divide the list into two new lists.\n",
    "3. (If needed, perform division recursively)\n",
    "4. (Use indices and) Pick the starting element of the left list, compare it to the element of the right list (given that they are reasonably sorted, which is where we need the recursion with a solid base case in the form of a sentinel card or condition for the length of the list to ensure that it is so). Determine which one is the smallest and input it as the starting element back in the initial list A.\n",
    "5. Perform operations until the list is fully sorted."
   ]
  },
  {
   "cell_type": "markdown",
   "metadata": {
    "collapsed": false,
    "deletable": false,
    "editable": false,
    "nbgrader": {
     "checksum": "010584ea3a4f00fba43b52bb04cd0ed2",
     "grade": false,
     "grade_id": "cell-84932c7c0c20b750",
     "locked": true,
     "schema_version": 1,
     "solution": false
    }
   },
   "source": [
    "## Question 3 [time estimate: 20 minutes]\n",
    "\n",
    "Write a Python implementation of the merge pseudocode (both parts). Your Python function must take the same four input arguments as described in the $MERGE(A,p,q,r)$. Test your code by running the example in problem 1 and 2 of this pre-class work. Feel free to come up with additional cases to check if your code is working properly. Your code should return A."
   ]
  },
  {
   "cell_type": "code",
   "execution_count": 19,
   "metadata": {
    "collapsed": false,
    "deletable": false,
    "nbgrader": {
     "checksum": "43760e27d0b385c30476353b3d546a79",
     "grade": false,
     "grade_id": "cell-a67719d65c1ac9f3",
     "locked": false,
     "schema_version": 1,
     "solution": true
    }
   },
   "outputs": [
   ],
   "source": [
    "def merge(A, p, q, r): #A is the initial list itself, p is the index of the start of A, q is the middle, r is the end\n",
    "    n1=q-p+1 #determine the length of first list\n",
    "    n2=r-q #determine the length of the second list\n",
    "    L=list() #create new empty lists\n",
    "    R=list()\n",
    "    for i in range(0, n1-1): #from the start to the end\n",
    "        L.append(A[p+i-1]) #populate the first list from the original one\n",
    "    for j in range(0, n2-1):\n",
    "        R.append(A[q+j]) #populate the second list from the original one\n",
    "    L[n1]=r*800 #whichever large number you want as the last element - sentinel card to stop the algorithm\n",
    "    R[n2]=r*800\n",
    "    i=0 #set i and j back to the indices of the first elements of the list\n",
    "    j=0\n",
    "    for k in range(p, r+1): #now merge the list back\n",
    "        if L[i]<=R[j]: #if the element on the left list is smaller or equal to the element on the right list\n",
    "            A[k]=L[i] #then input this identified smallest element into the original list\n",
    "            i=i+1 #move to the next element to examine\n",
    "        else:\n",
    "            A[k]=R[j] #else - input the smallest element from the right list\n",
    "            j=j+1 #move to the next element to examine\n",
    "    return A #return sorted list\n",
    "    raise NotImplementedError()\n",
    "\n",
    "    \n",
    "    # I got lost in the indices and can't figure it out....................."
   ]
  },
  {
   "cell_type": "code",
   "execution_count": 0,
   "metadata": {
    "collapsed": false,
    "deletable": false,
    "editable": false,
    "nbgrader": {
     "checksum": "699908274975a6bff4f9fb021e666ce4",
     "grade": true,
     "grade_id": "cell-e98759fe14428af0",
     "locked": true,
     "points": 0,
     "schema_version": 1,
     "solution": false
    }
   },
   "outputs": [
   ],
   "source": [
    "# Please ignore this cell. This cell is for us to implement the tests \n",
    "# to see if your code works properly. "
   ]
  },
  {
   "cell_type": "markdown",
   "metadata": {
    "collapsed": false,
    "deletable": false,
    "nbgrader": {
     "checksum": "b2d80ef5c8845de0122c6420b853605d",
     "grade": false,
     "grade_id": "cell-49f3f61ee6d72bb9",
     "locked": true,
     "schema_version": 1,
     "solution": false
    }
   },
   "source": [
    "## Question 4 [time estimate: 5 minutes]\n",
    "\n",
    "Suppose that your Python implementation of the merge algorithm is already working. Read and comment the code for merge sort below:"
   ]
  },
  {
   "cell_type": "code",
   "execution_count": 20,
   "metadata": {
    "collapsed": false,
    "deletable": false,
    "nbgrader": {
     "checksum": "53611abb1448334a346783091382fb12",
     "grade": false,
     "grade_id": "cell-073a21c6aac8225e",
     "locked": true,
     "schema_version": 1,
     "solution": false
    }
   },
   "outputs": [
   ],
   "source": [
    "def merge_sort(A,p,r): #A is the initial list itself, p is the index of the start of A, r is the index of the final element of A\n",
    "    if p < r: #base condition that will ensure the loop stops when there is only one element left and there is nothing left to divide\n",
    "        q = (p+r)//2 #determine the index of the middle and divide the list: (start+end)/2 without leftovers\n",
    "        merge_sort(A,p,q) #apply the function to divide the first out of two resulting lists recursively\n",
    "        merge_sort(A,q+1,r) #apply the function to divide the second one out of two resulting lists recursively\n",
    "        merge(A,p,q,r) #merge the sorted lists back into the fully sorted initial list\n",
    "    return(A) #return final fully sorted list"
   ]
  },
  {
   "cell_type": "code",
   "execution_count": 0,
   "metadata": {
    "collapsed": false,
    "deletable": false,
    "editable": false,
    "nbgrader": {
     "checksum": "35fbb3c437b3ba39ede0d87d6719223b",
     "grade": true,
     "grade_id": "cell-a3a71f67390c1f82",
     "locked": true,
     "points": 0,
     "schema_version": 1,
     "solution": false
    }
   },
   "outputs": [
   ],
   "source": [
    "# Please ignore this cell. This cell is for us to implement the tests \n",
    "# to see if your code works properly. "
   ]
  },
  {
   "cell_type": "markdown",
   "metadata": {
    "collapsed": false,
    "deletable": false,
    "nbgrader": {
     "checksum": "61cfba995efe3c9c37092a650047fdf3",
     "grade": false,
     "grade_id": "cell-5b296f793fefdbfe",
     "locked": true,
     "schema_version": 1,
     "solution": false
    }
   },
   "source": [
    "## Question 5 [time estimate: 15 minutes]\n",
    "Count the number of steps and time your merge_sort() function with the following input: `list_k = [i for i in range(100*k, 0, -1)] `, where $k= 1, 2, 3, …, 15 $. If you are not familiar with what this piece of code is doing, you may want to check the \"List Comprehension\" section in this [Python Help Sheet](https://drive.google.com/open?id=1paW2ByiraoDQViie0gGxApRN9DKbjHGx).\n"
   ]
  },
  {
   "cell_type": "code",
   "execution_count": 21,
   "metadata": {
    "collapsed": false,
    "deletable": false,
    "nbgrader": {
     "checksum": "cc3f59157e795d05422e849f3e7cc03a",
     "grade": true,
     "grade_id": "cell-8a4233ab58d3d0bb",
     "locked": false,
     "points": 0,
     "schema_version": 1,
     "solution": true
    }
   },
   "outputs": [
   ],
   "source": [
    "# not like it will work with the indices being out of range, but\n",
    "\n",
    "def merge(A, p, q, r): #A is the initial list itself, p is the index of the start of A, q is the middle, r is the end\n",
    "    n1=q-p+1 #determine the length of first list\n",
    "    n2=r-q #determine the length of the second list\n",
    "    L=list() #create new empty lists\n",
    "    R=list()\n",
    "    for i in range(0, n1-1): #from the start to the end\n",
    "        L.append(A[p+i-1]) #populate the first list from the original one\n",
    "    for j in range(0, n2-1):\n",
    "        R.append(A[q+j]) #populate the second list from the original one\n",
    "    L[n1]=r*800 #whichever large number you want as the last element - sentinel card to stop the algorithm\n",
    "    R[n2]=r*800\n",
    "    i=0 #set i and j back to the indices of the first elements of the list\n",
    "    j=0\n",
    "    for k in range(p, r+1): #now merge the list back\n",
    "        if L[i]<=R[j]: #if the element on the left list is smaller or equal to the element on the right list\n",
    "            A[k]=L[i] #then input this identified smallest element into the original list\n",
    "            i=i+1 #move to the next element to examine\n",
    "        else:\n",
    "            A[k]=R[j] #else - input the smallest element from the right list\n",
    "            j=j+1 #move to the next element to examine\n",
    "    return A #return sorted list\n",
    "    raise NotImplementedError()\n",
    "\n",
    "def merge_sort(A,p,r): #A is the initial list itself, p is the index of the start of A, r is the index of the final element of A\n",
    "    if p < r: #base condition that will ensure the loop stops when there is only one element left and there is nothing left to divide\n",
    "        q = (p+r)//2 #determine the index of the middle and divide the list: (start+end)/2 without leftovers\n",
    "        merge_sort(A,p,q) #apply the function to divide the first out of two resulting lists recursively\n",
    "        merge_sort(A,q+1,r) #apply the function to divide the second one out of two resulting lists recursively\n",
    "        merge(A,p,q,r) #merge the sorted lists back into the fully sorted initial list\n",
    "        list_k = [i for i in range(100*k, 0, -1)]\n",
    "    return(A) #return final fully sorted list"
   ]
  },
  {
   "cell_type": "markdown",
   "metadata": {
    "collapsed": false,
    "deletable": false,
    "editable": false
   },
   "source": [
    "## Question 6 [time estimate: 25 minutes] \n",
    "Use the code you wrote for Lesson \"Measuring algorithms' efficiency\" (i.e., selection sort, bubble sort, insertion sort). Plot the following graphs:\n",
    "* **Graph 1**: 4 lines for **the number of steps** of each of the 4 sorting algorithms (i.e., selection sort, bubble sort, insertion sort, merge sort). Which algorithm performs best? Why? \n",
    "* **Graph 2**: 4 lines for **the timing** of each of the 4 sorting algorithms (i.e., selection sort, bubble sort, insertion sort, merge sort). Which algorithm performs best? Why?\n",
    "\n",
    "Use as many cells as you wish (code cells or markdown cells alike) to complete this question.\n",
    "\n",
    "You may find the section \"Simple 2-Dimensional Plots in Python\" in this [Python Help Sheet](https://drive.google.com/open?id=1paW2ByiraoDQViie0gGxApRN9DKbjHGx) helpful."
   ]
  },
  {
   "cell_type": "code",
   "execution_count": 26,
   "metadata": {
    "collapsed": false,
    "deletable": false,
    "nbgrader": {
     "checksum": "0561f29260f91795736500d62066a4c7",
     "grade": true,
     "grade_id": "cell-d09efb7c7fe55e69",
     "locked": false,
     "points": 0,
     "schema_version": 1,
     "solution": true
    }
   },
   "outputs": [
    {
     "name": "stdout",
     "output_type": "stream",
     "text": [
      "[2, 10, 7, 5, 3, 6]\n",
      "[2, 7, 10, 5, 3, 6]\n",
      "[2, 5, 7, 10, 3, 6]\n",
      "[2, 3, 5, 7, 10, 6]\n",
      "[2, 3, 5, 6, 7, 10]\n",
      "Number of steps is 5\n",
      "[3, 5, 4]\n",
      "[3, 4, 5]\n",
      "Number of steps is 2\n",
      "[3, 9, 4, 12, 6, 10, 2, 1]\n",
      "[3, 4, 9, 12, 6, 10, 2, 1]\n",
      "[3, 4, 9, 12, 6, 10, 2, 1]\n",
      "[3, 4, 6, 9, 12, 10, 2, 1]\n",
      "[3, 4, 6, 9, 10, 12, 2, 1]\n",
      "[2, 3, 4, 6, 9, 10, 12, 1]\n",
      "[1, 2, 3, 4, 6, 9, 10, 12]\n",
      "Number of steps is 7\n",
      "[10, 2, 7, 3, 5, 6]\n",
      "[10, 2, 3, 7, 5, 6]\n",
      "[2, 10, 3, 7, 5, 6]\n",
      "[2, 10, 3, 5, 7, 6]\n",
      "[2, 3, 10, 5, 7, 6]\n",
      "[2, 3, 10, 5, 6, 7]\n",
      "[2, 3, 5, 10, 6, 7]\n",
      "[2, 3, 5, 6, 10, 7]\n",
      "[2, 3, 5, 6, 7, 10]\n",
      "Number of steps is 9\n",
      "[3, 4, 5]\n",
      "Number of steps is 1\n",
      "[9, 3, 4, 12, 6, 10, 1, 2]\n",
      "[9, 3, 4, 12, 6, 1, 10, 2]\n",
      "[9, 3, 4, 12, 1, 6, 10, 2]\n",
      "[9, 3, 4, 1, 12, 6, 10, 2]\n",
      "[9, 3, 1, 4, 12, 6, 10, 2]\n",
      "[9, 1, 3, 4, 12, 6, 10, 2]\n",
      "[1, 9, 3, 4, 12, 6, 10, 2]\n",
      "[1, 9, 3, 4, 12, 6, 2, 10]\n",
      "[1, 9, 3, 4, 12, 2, 6, 10]\n",
      "[1, 9, 3, 4, 2, 12, 6, 10]\n",
      "[1, 9, 3, 2, 4, 12, 6, 10]\n",
      "[1, 9, 2, 3, 4, 12, 6, 10]\n",
      "[1, 2, 9, 3, 4, 12, 6, 10]\n",
      "[1, 2, 9, 3, 4, 6, 12, 10]\n",
      "[1, 2, 3, 9, 4, 6, 12, 10]\n",
      "[1, 2, 3, 9, 4, 6, 10, 12]\n",
      "[1, 2, 3, 4, 9, 6, 10, 12]\n",
      "[1, 2, 3, 4, 6, 9, 10, 12]\n",
      "Number of steps is 18\n",
      "[2, 10, 7, 5, 3, 6]\n",
      "[2, 3, 7, 5, 10, 6]\n",
      "[2, 3, 5, 7, 10, 6]\n",
      "[2, 3, 5, 6, 10, 7]\n",
      "[2, 3, 5, 6, 7, 10]\n",
      "Number of steps is 5\n",
      "[3, 5, 4]\n",
      "[3, 4, 5]\n",
      "Number of steps is 2\n",
      "[1, 3, 4, 12, 6, 10, 2, 9]\n",
      "[1, 2, 4, 12, 6, 10, 3, 9]\n",
      "[1, 2, 3, 12, 6, 10, 4, 9]\n",
      "[1, 2, 3, 4, 6, 10, 12, 9]\n",
      "[1, 2, 3, 4, 6, 10, 12, 9]\n",
      "[1, 2, 3, 4, 6, 9, 12, 10]\n",
      "[1, 2, 3, 4, 6, 9, 10, 12]\n",
      "Number of steps is 7\n"
     ]
    },
    {
     "data": {
      "text/plain": [
       "[<matplotlib.lines.Line2D at 0x7fb9d67df250>,\n",
       " <matplotlib.lines.Line2D at 0x7fb9d67df5b0>,\n",
       " <matplotlib.lines.Line2D at 0x7fb9d67df910>]"
      ]
     },
     "execution_count": 26,
     "metadata": {
     },
     "output_type": "execute_result"
    },
    {
     "data": {
      "image/png": "[encoded data removed]",
      "text/plain": [
       "<Figure size 864x504 with 1 Axes>"
      ]
     },
     "execution_count": 26,
     "metadata": {
      "image/png": {
       "height": 411,
       "width": 713
      },
      "needs_background": "light"
     },
     "output_type": "execute_result"
    }
   ],
   "source": [
    "import matplotlib.pyplot as plt\n",
    "\n",
    "def insertion_sort(A):\n",
    "    c=0\n",
    "    for j in range(1, len(A)): #!this loop goes through all the elements of the list correctly now!\n",
    "        \n",
    "        #THE BUG: the loop was starting from 3nd element of the list instead of 2nd, although we know that in Python the count of indeces starts from 0, and not 1. Thus, to start this loop correctly, we need to set the starting point of the range to 1 (so that we start with comparing the 2nd element with the first)\n",
    "        \n",
    "        key = A[j] #store the value of the element we're testing\n",
    "        i = j-1 #store the index of the element on the left from where the element we're testing is initially located | the index of the element we will be comparing to\n",
    "        while i >= 0 and A[i]>key: #1. till we reach the start of the list in our comparisons; 2. till the element on the left is larger than our element -> keep reshuffling the elements\n",
    "            A[i+1] = A[i] #move the element that was on the left to our initial position (or the position that belonged to the element of A[i+1] in the moment of the restart of the loop)\n",
    "            i -= 1 #move to the element on the left for the examination\n",
    "        A[i+1] = key #put the element we were searching the place for on the place that was \"freed\" for it by shuffling the elements from the left that were larger than it to the right\n",
    "        c+=1\n",
    "        print(A) #for me to check out how the algorithm shuffles the list\n",
    "    print('Number of steps is',c)\n",
    "    global a1\n",
    "    a1=c\n",
    "    return A #return sorted list\n",
    "    raise NotImplementedError()\n",
    "\n",
    "    \n",
    "l1=list()\n",
    "insertion_sort([10,2,7,5,3,6])#tested and got the correct result. Before fixing the bug, all the elements were returned sorted, besides 10.\n",
    "l1.append(a1)\n",
    "insertion_sort([3,5,4])\n",
    "l1.append(a1)\n",
    "insertion_sort([9,3,4,12,6,10,2,1])\n",
    "l1.append(a1)\n",
    "\n",
    "def bubble_sort(A):\n",
    "    c=0\n",
    "    for i in range(0, len(A)-1): #!I have changed the i as a starting point from 1 to 0 here :/ Unsure if that was meant to be a bug or not, but it worked better for me in practice, so I left it be and highlighted for myself to double-check and ask about later. If I would leave 1 to be, then my code would not account for the first element of the list at all. Now this code goes through all of them.!\n",
    "        for j in reversed(range(i+1, len(A))): #j starts the count from the end of the list\n",
    "            if A[j]<A[j-1]: #if our element is smaller than the element on the left - swap their places\n",
    "                key=A[j]\n",
    "                A[j]=A[j-1]\n",
    "                A[j-1]=key\n",
    "                c+=1\n",
    "                print(A) #for me to check out how the algorithm shuffles the list\n",
    "            else:\n",
    "                continue\n",
    "    print('Number of steps is',c)\n",
    "    global a2\n",
    "    a2=c\n",
    "    return A\n",
    "    raise NotImplementedError()\n",
    "l2=list()\n",
    "bubble_sort([10,2,7,5,3,6])#tested and got the correct result. Before fixing the bug, all the elements were returned sorted, besides 10.\n",
    "l2.append(a2)\n",
    "bubble_sort([3,5,4])\n",
    "l2.append(a2)\n",
    "bubble_sort([9,3,4,12,6,10,2,1]) #THE MOST INEFFICIENT ALGORITHM, APPARENTLY :/\n",
    "l2.append(a2)\n",
    "\n",
    "def selection_sort(A):\n",
    "    c=0\n",
    "    n=len(A)\n",
    "    for i in range(0, n-1): #changed the starting point once again, for the same purposes as before (the algorithm starts actually fulfilling its purpose) :/\n",
    "        minidx=i #index of the first element of the unsorted part of the row and the \"min\" that we take just as a guess and later compare to other numbers and reevaluate which one is the real min\n",
    "        for j in range(i+1, n): #go through all the other elements to check whether we need to change our judgement on what is the real min in this try\n",
    "            if A[j]<A[minidx]: #if the element we are checking in this try is smaller than what we thought was min, reassign what the min is\n",
    "                minidx=j\n",
    "            else:\n",
    "                continue\n",
    "        key=A[minidx] #once we have determined the real min, swap the places of this min with our previous guess\n",
    "        A[minidx]=A[i]\n",
    "        A[i]=key\n",
    "        c+=1\n",
    "        print(A) #for me to check out how the algorithm shuffles the list\n",
    "    print('Number of steps is',c)\n",
    "    global a3\n",
    "    a3=c\n",
    "    return A\n",
    "    raise NotImplementedError()\n",
    "\n",
    "l3=list()\n",
    "selection_sort([10,2,7,5,3,6])#tested and got the correct result. Before fixing the bug, all the elements were returned sorted, besides 10.\n",
    "l3.append(a3)\n",
    "selection_sort([3,5,4])\n",
    "l3.append(a3)\n",
    "selection_sort([9,3,4,12,6,10,2,1])\n",
    "l3.append(a3)\n",
    "\n",
    "P1=plt.plot(l1)\n",
    "P1\n",
    "P2=plt.plot(l2)\n",
    "P2\n",
    "P3=plt.plot(l3)\n",
    "P3\n",
    "P1+P2+P3 #number of steps for the specific algorithms. Two lines merge since the number of steps for their algorithms is the same"
   ]
  },
  {
   "cell_type": "code",
   "execution_count": 0,
   "metadata": {
    "collapsed": false
   },
   "outputs": [
   ],
   "source": [
   ]
  },
  {
   "cell_type": "code",
   "execution_count": 0,
   "metadata": {
    "collapsed": false
   },
   "outputs": [
   ],
   "source": [
   ]
  }
 ],
 "metadata": {
  "kernelspec": {
   "display_name": "Python 3 (system-wide)",
   "language": "python",
   "metadata": {
    "cocalc": {
     "description": "Python 3 programming language",
     "priority": 100,
     "url": "https://www.python.org/"
    }
   },
   "name": "python3"
  },
  "language_info": {
   "codemirror_mode": {
    "name": "ipython",
    "version": 3
   },
   "file_extension": ".py",
   "mimetype": "text/x-python",
   "name": "python",
   "nbconvert_exporter": "python",
   "pygments_lexer": "ipython3",
   "version": "3.8.2"
  }
 },
 "nbformat": 4,
 "nbformat_minor": 4
}