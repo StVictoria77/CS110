{
 "cells": [
  {
   "cell_type": "markdown",
   "metadata": {
    "collapsed": false
   },
   "source": [
    "Before you turn this problem in, make sure everything runs as expected. First, **restart the kernel** (in the menubar, select Kernel$\\rightarrow$Restart) and then **run all cells** (in the menubar, select Cell$\\rightarrow$Run All).\n",
    "\n",
    "Note that this Pre-class Work is estimated to take **44 minutes**.\n",
    "\n",
    "Make sure you fill in any place that says `YOUR CODE HERE` or \"YOUR ANSWER HERE\", as well as your name and collaborators below:"
   ]
  },
  {
   "cell_type": "code",
   "execution_count": 15,
   "metadata": {
    "collapsed": false
   },
   "outputs": [
   ],
   "source": [
    "NAME = \"Viktoriia Stepanenko\"\n",
    "COLLABORATORS = \"--------------\""
   ]
  },
  {
   "cell_type": "markdown",
   "metadata": {
    "collapsed": false
   },
   "source": [
    "---"
   ]
  },
  {
   "cell_type": "markdown",
   "metadata": {
    "collapsed": false,
    "deletable": false,
    "nbgrader": {
     "checksum": "a2025a945eae66ffac9bc4836ac511db",
     "grade": false,
     "grade_id": "cell-f534ec91df9dff5f",
     "locked": true,
     "schema_version": 1,
     "solution": false
    }
   },
   "source": [
    "# CS110 Pre-class Work - Randomized quicksort\n",
    "\n",
    "## Part A. Median-of-3 partitioning quicksort \n",
    "\n",
    "## Question 1 [time estimate: 10 minutes]\n",
    "\n",
    "Read through the following Python code. What does each function (i.e., median, qsort, randomized_qsort, test_qsort) do? Comment in details each function. \n"
   ]
  },
  {
   "cell_type": "code",
   "execution_count": 16,
   "metadata": {
    "collapsed": false
   },
   "outputs": [
    {
     "name": "stdout",
     "output_type": "stream",
     "text": [
      "0.07495689699862851\n"
     ]
    }
   ],
   "source": [
    "import timeit\n",
    "import random\n",
    "\n",
    "eps = 1e-16\n",
    "N = 10000\n",
    "locations = [0.0, 0.5, 1.0 - eps]\n",
    "\n",
    "\n",
    "def median(x1, x2, x3): #selects a median out of three potential answers by comparing them\n",
    "    if (x1 < x2 < x3) or (x3 < x2 < x1):\n",
    "        return x2\n",
    "    elif (x1 < x3 < x2) or (x2 < x3 < x1):\n",
    "        return x3\n",
    "    else:\n",
    "        return x1\n",
    "\n",
    "def qsort(lst): #performs the actual quicksort\n",
    "    indices = [(0, len(lst))] #create the list of the target length for the indices of the original list\n",
    "\n",
    "    while indices:\n",
    "        (frm, to) = indices.pop() #filling out the list with the indices from the given start to the given end\n",
    "        if frm == to:\n",
    "            continue\n",
    "\n",
    "        # Find the partition:\n",
    "        N = to - frm #establish the length\n",
    "        inds = [frm + int(N * n) for n in locations] #fill out with target indices\n",
    "        values = [lst[ind] for ind in inds] \n",
    "        partition = median(*values) #find the partition through medians\n",
    "\n",
    "        # Split into lists:\n",
    "        lower = [a for a in lst[frm:to] if a < partition] #the list of smaller elements (than the median)\n",
    "        upper = [a for a in lst[frm:to] if a > partition] #the list of larger elements\n",
    "        counts = sum([1 for a in lst[frm:to] if a == partition]) #establish the full length of the list\n",
    "\n",
    "        ind1 = frm + len(lower) #determine the end index of the list of smaller values\n",
    "        ind2 = ind1 + counts #determine the end index of the list of larger values\n",
    "\n",
    "        # Push back into correct place:\n",
    "        lst[frm:ind1] = lower #establish all three lists as needed in the quicksort using indices\n",
    "        lst[ind1:ind2] = [partition] * counts\n",
    "        lst[ind2:to] = upper\n",
    "\n",
    "        # Enqueue other locations\n",
    "        indices.append((frm, ind1)) #fill out our lists with target indices in the right order\n",
    "        indices.append((ind2, to))\n",
    "    return lst #return sorted list\n",
    "\n",
    "\n",
    "def randomized_quicksort(): #randomized quicksort, as the name suggests\n",
    "    lst = [i for i in range(N)] #take the input\n",
    "    random.shuffle(lst) #randomize (shuffle in place) the input\n",
    "    return qsort(lst) #then apply quicksort to the randomized input\n",
    "\n",
    "\n",
    "def test_quicksort(): #test whether the algorithm works\n",
    "    lst = randomized_quicksort() \n",
    "    assert (lst == [i for i in range(N)]) #if True, and an algorithm worked, then don't raise an error\n",
    "\n",
    "\n",
    "# Is our algorithm correct\n",
    "test_quicksort()\n",
    "\n",
    "# How fast is our algorithm\n",
    "print(timeit.timeit(randomized_quicksort, number=1))"
   ]
  },
  {
   "cell_type": "markdown",
   "metadata": {
    "collapsed": false,
    "deletable": false,
    "editable": false,
    "nbgrader": {
     "checksum": "61fb11bff1434e4b7276c7443b0267c6",
     "grade": false,
     "grade_id": "cell-a2b2429aa4e81403",
     "locked": true,
     "schema_version": 1,
     "solution": false
    }
   },
   "source": [
    "## Question 2 [time estimate: 3 minutes]\n",
    "\n",
    "What are the main differences between the `randomized_quicksort` in the code and $RANDOMIZED-QUICKSORT$ in Cormen et al., besides that the partition of `randomized_quicksort` uses a median of 3 as a pivot?"
   ]
  },
  {
   "cell_type": "markdown",
   "metadata": {
    "collapsed": false,
    "deletable": false,
    "nbgrader": {
     "checksum": "8915b75d94bc194ba0f4e52e475063b4",
     "grade": true,
     "grade_id": "cell-4a3cd727ccac7404",
     "locked": false,
     "points": 0,
     "schema_version": 1,
     "solution": true
    }
   },
   "source": [
    "The fact that our function still permutes the input in place before applying quicksort, while Cormen et al. reading was suggesting not doing that and focusing instead on picking random number as a pivot. Also, reading's suggestion is much more straightforward and saves more space, since almost every change (except for exchanging the pivot with another element) happens in place, while our code utilizes an extra function and a ton of lists and variables."
   ]
  },
  {
   "cell_type": "markdown",
   "metadata": {
    "collapsed": false,
    "deletable": false,
    "editable": false,
    "nbgrader": {
     "checksum": "5853f10cab01212736d0e92ce408fa97",
     "grade": false,
     "grade_id": "cell-49bff57d4018e133",
     "locked": true,
     "schema_version": 1,
     "solution": false
    }
   },
   "source": [
    "## Question 3 [time estimate: 10 minutes]\n",
    "\n",
    "What is the time complexity of this `randomized_qsort`? Time the algorithm on lists of various lengths, each list being a list of the first $n$ consecutive positive integers. Produce a graph with list lengths on the x axis and running time on the y axis. As always, don’t forget to time the algorithm several times for each list’s length and then average the results. "
   ]
  },
  {
   "cell_type": "code",
   "execution_count": 18,
   "metadata": {
    "collapsed": false,
    "deletable": false,
    "nbgrader": {
     "checksum": "a321a7fcecb9c9cce252ea2c6030d4ce",
     "grade": true,
     "grade_id": "cell-e0e1dac71ac7feb6",
     "locked": false,
     "points": 0,
     "schema_version": 1,
     "solution": true
    }
   },
   "outputs": [
    {
     "data": {
      "text/plain": [
       "Text(0.5, 0, 'list lengths')"
      ]
     },
     "execution_count": 18,
     "metadata": {
     },
     "output_type": "execute_result"
    },
    {
     "data": {
      "image/png": "[encoded data removed]",
      "text/plain": [
       "<Figure size 864x504 with 1 Axes>"
      ]
     },
     "execution_count": 18,
     "metadata": {
      "image/png": {
       "height": 424,
       "width": 720
      },
      "needs_background": "light"
     },
     "output_type": "execute_result"
    }
   ],
   "source": [
    "#I've tested the code and it works, but it takes quite an amount of time to run for the large inputs (initially I've put a few hundreds). The trend is clear and is the same for any input\n",
    "\n",
    "import matplotlib.pyplot as plt\n",
    "\n",
    "timing=[] #create a new list for timing corresponding to each list length\n",
    "for i in range(1, 15): #from 1 to first (smth) consecutive positive integers. 15 is just so I can rerun the code and upload it to the gist\n",
    "    a=(float(timeit.timeit(randomized_quicksort, number=i))+float(timeit.timeit(randomized_quicksort, number=i))+float(timeit.timeit(randomized_quicksort, number=i)))/3 #capture the runtime for each of the lists and average their values out; although I could average it out even more\n",
    "    timing.append(a) #record the runtime for each of the lists\n",
    "\n",
    "plt.plot(timing)\n",
    "plt.ylabel('running time')\n",
    "plt.xlabel('list lengths')"
   ]
  },
  {
   "cell_type": "markdown",
   "metadata": {
    "collapsed": false,
    "deletable": false,
    "editable": false,
    "nbgrader": {
     "checksum": "b8751f930d9dc208113425646ea7fea8",
     "grade": false,
     "grade_id": "cell-1e8309c07c2f2908",
     "locked": true,
     "schema_version": 1,
     "solution": false
    }
   },
   "source": [
    "## Question 4.\n",
    "\n",
    "### Question 4a [time estimate: 7 minutes]\n",
    "\n",
    "Change the `qsort()` function in a way that you **don’t** separate the items that are equal to the partition. \n"
   ]
  },
  {
   "cell_type": "code",
   "execution_count": 12,
   "metadata": {
    "collapsed": false,
    "deletable": false,
    "nbgrader": {
     "checksum": "797888f53fa36bcf0f9d891c4819d8e9",
     "grade": false,
     "grade_id": "cell-a9d1f063c0340b14",
     "locked": false,
     "schema_version": 1,
     "solution": true
    }
   },
   "outputs": [
   ],
   "source": [
    "import timeit\n",
    "import random\n",
    "\n",
    "eps = 1e-16\n",
    "N = 10000\n",
    "locations = [0.0, 0.5, 1.0 - eps]\n",
    "\n",
    "\n",
    "def median(x1, x2, x3): #selects a median out of three potential answers by comparing them\n",
    "    if (x1 < x2 < x3) or (x3 < x2 < x1):\n",
    "        return x2\n",
    "    elif (x1 < x3 < x2) or (x2 < x3 < x1):\n",
    "        return x3\n",
    "    else:\n",
    "        return x1\n",
    "\n",
    "\n",
    "def qsort(lst): #performs the actual quicksort\n",
    "    indices = [(0, len(lst))] #create the list of the target length for the indices of the original list\n",
    "\n",
    "    while indices:\n",
    "        (frm, to) = indices.pop() #filling out the list with the indices from the given start to the given end\n",
    "        if frm == to:\n",
    "            continue\n",
    "\n",
    "        # Find the partition:\n",
    "        N = to - frm #establish the length\n",
    "        inds = [frm + int(N * n) for n in locations] #fill out with target indices\n",
    "        values = [lst[ind] for ind in inds] \n",
    "        partition = median(*values) #find the partition through medians\n",
    "\n",
    "        # Split into lists:\n",
    "        lower = [a for a in lst[frm:to] if a <= partition] #the list of smaller elements (than the median)\n",
    "        upper = [a for a in lst[frm:to] if a >= partition] #the list of larger elements\n",
    "\n",
    "        ind1 = frm + len(lower) #determine the end index of the list of smaller values\n",
    "        ind2 = ind1 + len(upper) #determine the end index of the list of larger values\n",
    "\n",
    "        # Push back into correct place:\n",
    "        lst[frm:ind1] = lower #establish all three lists as needed in the quicksort using indices\n",
    "        lst[ind2:to] = upper\n",
    "\n",
    "        # Enqueue other locations\n",
    "        indices.append((frm, ind1)) #fill out our lists with target indices in the right order\n",
    "        indices.append((ind2, to))\n",
    "    return lst #return sorted list\n",
    "\n",
    "\n",
    "#unsure of both if I understood the task and implemented the right thing, since I made some mistake and my kernel is not cooperating :/ Would be thankful for the clarification"
   ]
  },
  {
   "cell_type": "code",
   "execution_count": 6,
   "metadata": {
    "collapsed": false,
    "deletable": false,
    "editable": false,
    "nbgrader": {
     "checksum": "ce755b787f1b82629d627d2f8bea66a5",
     "grade": true,
     "grade_id": "cell-2c0cbd296d612f85",
     "locked": true,
     "points": 1,
     "schema_version": 1,
     "solution": false
    }
   },
   "outputs": [
   ],
   "source": [
    "assert(qsort([4,2,1])==[1,2,4])\n",
    "assert(qsort([0])==[0])"
   ]
  },
  {
   "cell_type": "markdown",
   "metadata": {
    "collapsed": false,
    "deletable": false,
    "editable": false,
    "nbgrader": {
     "checksum": "3f5f9ca976fb636978e2bdfda98a5eeb",
     "grade": false,
     "grade_id": "cell-76883a453f020d72",
     "locked": true,
     "schema_version": 1,
     "solution": false
    }
   },
   "source": [
    "### Question 4b [time estimate: 3 minutes]\n",
    "\n",
    "Now time the algorithm on the same inputs you have used in question 3, adding one more line in the previous graph you have produced. "
   ]
  },
  {
   "cell_type": "code",
   "execution_count": 19,
   "metadata": {
    "collapsed": false,
    "deletable": false,
    "nbgrader": {
     "checksum": "33188fb282e53d117dfe275067ad3567",
     "grade": true,
     "grade_id": "cell-31ee807cec9ce8bf",
     "locked": false,
     "points": 0,
     "schema_version": 1,
     "solution": true
    }
   },
   "outputs": [
   ],
   "source": [
    "#The kernel is not cooperating, but - I would simply create an extra list that would be filled with timings of this algorithm and then create a plot for that and merge the two"
   ]
  },
  {
   "cell_type": "markdown",
   "metadata": {
    "collapsed": false,
    "deletable": false,
    "editable": false,
    "nbgrader": {
     "checksum": "991ee87c525d8fa29bd448aa80dbf243",
     "grade": false,
     "grade_id": "cell-b666e68e84dfce03",
     "locked": true,
     "schema_version": 1,
     "solution": false
    }
   },
   "source": [
    "## Question 5.\n",
    "\n",
    "### Question 5a [time estimate: 3 minutes]\n",
    "\n",
    "Remove the median-of-3 partitioning, and just use the first element in the array. "
   ]
  },
  {
   "cell_type": "code",
   "execution_count": 20,
   "metadata": {
    "collapsed": false,
    "deletable": false,
    "nbgrader": {
     "checksum": "90dbb100f881a2c9a61720a0753ca401",
     "grade": false,
     "grade_id": "cell-4daf36021c15eaf0",
     "locked": false,
     "schema_version": 1,
     "solution": true
    }
   },
   "outputs": [
   ],
   "source": [
    "import timeit\n",
    "import random\n",
    "\n",
    "eps = 1e-16\n",
    "N = 10000\n",
    "locations = [0.0, 0.5, 1.0 - eps]\n",
    "\n",
    "\n",
    "def qsort(lst): #performs the actual quicksort\n",
    "    indices = [(0, len(lst))] #create the list of the target length for the indices of the original list\n",
    "\n",
    "    while indices:\n",
    "        (frm, to) = indices.pop() #filling out the list with the indices from the given start to the given end\n",
    "        if frm == to:\n",
    "            continue\n",
    "\n",
    "        # Find the partition:\n",
    "        N = to - frm #establish the length\n",
    "        inds = [frm + int(N * n) for n in locations] #fill out with target indices\n",
    "        values = [lst[ind] for ind in inds] \n",
    "        partition = values[0] #MODIFIED HERE\n",
    "        \n",
    "        # Split into lists:\n",
    "        lower = [a for a in lst[frm:to] if a < partition] #the list of smaller elements (than the median)\n",
    "        upper = [a for a in lst[frm:to] if a > partition] #the list of larger elements\n",
    "        counts = sum([1 for a in lst[frm:to] if a == partition]) #establish the full length of the list\n",
    "\n",
    "        ind1 = frm + len(lower) #determine the end index of the list of smaller values\n",
    "        ind2 = ind1 + counts #determine the end index of the list of larger values\n",
    "\n",
    "        # Push back into correct place:\n",
    "        lst[frm:ind1] = lower #establish all three lists as needed in the quicksort using indices\n",
    "        lst[ind1:ind2] = [partition] * counts\n",
    "        lst[ind2:to] = upper\n",
    "\n",
    "        # Enqueue other locations\n",
    "        indices.append((frm, ind1)) #fill out our lists with target indices in the right order\n",
    "        indices.append((ind2, to))\n",
    "    return lst #return sorted list"
   ]
  },
  {
   "cell_type": "code",
   "execution_count": 21,
   "metadata": {
    "collapsed": false,
    "deletable": false,
    "editable": false,
    "nbgrader": {
     "checksum": "9d457eff304d19e031a8eabb4615ca3b",
     "grade": true,
     "grade_id": "cell-97473a9e0d12e745",
     "locked": true,
     "points": 1,
     "schema_version": 1,
     "solution": false
    }
   },
   "outputs": [
   ],
   "source": [
    "assert(qsort([4,2,1])==[1,2,4])\n",
    "assert(qsort([0])==[0])"
   ]
  },
  {
   "cell_type": "markdown",
   "metadata": {
    "collapsed": false,
    "deletable": false,
    "editable": false,
    "nbgrader": {
     "checksum": "8f0166e7d0021886bb7176f35011a633",
     "grade": false,
     "grade_id": "cell-2ca71dd53b31262b",
     "locked": true,
     "schema_version": 1,
     "solution": false
    }
   },
   "source": [
    "### Question 5b [time estimate: 3 minutes]\n",
    "\n",
    "Does this change the running time of your algorithm? Justify your response with a graph. \n",
    "\n"
   ]
  },
  {
   "cell_type": "code",
   "execution_count": 22,
   "metadata": {
    "collapsed": false
   },
   "outputs": [
   ],
   "source": [
    "#ORIGINAL\n",
    "\n",
    "import timeit\n",
    "import random\n",
    "\n",
    "eps = 1e-16\n",
    "N = 10000\n",
    "locations = [0.0, 0.5, 1.0 - eps]\n",
    "\n",
    "\n",
    "def median(x1, x2, x3): #selects a median out of three potential answers by comparing them\n",
    "    if (x1 < x2 < x3) or (x3 < x2 < x1):\n",
    "        return x2\n",
    "    elif (x1 < x3 < x2) or (x2 < x3 < x1):\n",
    "        return x3\n",
    "    else:\n",
    "        return x1\n",
    "\n",
    "def firstqsort(lst): #performs the actual quicksort\n",
    "    indices = [(0, len(lst))] #create the list of the target length for the indices of the original list\n",
    "\n",
    "    while indices:\n",
    "        (frm, to) = indices.pop() #filling out the list with the indices from the given start to the given end\n",
    "        if frm == to:\n",
    "            continue\n",
    "\n",
    "        # Find the partition:\n",
    "        N = to - frm #establish the length\n",
    "        inds = [frm + int(N * n) for n in locations] #fill out with target indices\n",
    "        values = [lst[ind] for ind in inds] \n",
    "        partition = median(*values) #find the partition through medians\n",
    "\n",
    "        # Split into lists:\n",
    "        lower = [a for a in lst[frm:to] if a < partition] #the list of smaller elements (than the median)\n",
    "        upper = [a for a in lst[frm:to] if a > partition] #the list of larger elements\n",
    "        counts = sum([1 for a in lst[frm:to] if a == partition]) #establish the full length of the list\n",
    "\n",
    "        ind1 = frm + len(lower) #determine the end index of the list of smaller values\n",
    "        ind2 = ind1 + counts #determine the end index of the list of larger values\n",
    "\n",
    "        # Push back into correct place:\n",
    "        lst[frm:ind1] = lower #establish all three lists as needed in the quicksort using indices\n",
    "        lst[ind1:ind2] = [partition] * counts\n",
    "        lst[ind2:to] = upper\n",
    "\n",
    "        # Enqueue other locations\n",
    "        indices.append((frm, ind1)) #fill out our lists with target indices in the right order\n",
    "        indices.append((ind2, to))\n",
    "    return lst #return sorted list\n",
    "\n",
    "\n",
    "def firstrandomized_quicksort(): #randomized quicksort, as the name suggests\n",
    "    lst = [i for i in range(N)] #take the input\n",
    "    random.shuffle(lst) #randomize (shuffle in place) the input\n",
    "    return firstqsort(lst) #then apply quicksort to the randomized input"
   ]
  },
  {
   "cell_type": "code",
   "execution_count": 26,
   "metadata": {
    "collapsed": false
   },
   "outputs": [
   ],
   "source": [
    "#MY NEW VERSION\n",
    "\n",
    "import timeit\n",
    "import random\n",
    "\n",
    "eps = 1e-16\n",
    "N = 10000\n",
    "locations = [0.0, 0.5, 1.0 - eps]\n",
    "\n",
    "\n",
    "def secondqsort(lst): #performs the actual quicksort\n",
    "    indices = [(0, len(lst))] #create the list of the target length for the indices of the original list\n",
    "\n",
    "    while indices:\n",
    "        (frm, to) = indices.pop() #filling out the list with the indices from the given start to the given end\n",
    "        if frm == to:\n",
    "            continue\n",
    "\n",
    "        # Find the partition:\n",
    "        N = to - frm #establish the length\n",
    "        inds = [frm + int(N * n) for n in locations] #fill out with target indices\n",
    "        values = [lst[ind] for ind in inds] \n",
    "        partition = values[0] #MODIFIED HERE\n",
    "        \n",
    "        # Split into lists:\n",
    "        lower = [a for a in lst[frm:to] if a < partition] #the list of smaller elements (than the median)\n",
    "        upper = [a for a in lst[frm:to] if a > partition] #the list of larger elements\n",
    "        counts = sum([1 for a in lst[frm:to] if a == partition]) #establish the full length of the list\n",
    "\n",
    "        ind1 = frm + len(lower) #determine the end index of the list of smaller values\n",
    "        ind2 = ind1 + counts #determine the end index of the list of larger values\n",
    "\n",
    "        # Push back into correct place:\n",
    "        lst[frm:ind1] = lower #establish all three lists as needed in the quicksort using indices\n",
    "        lst[ind1:ind2] = [partition] * counts\n",
    "        lst[ind2:to] = upper\n",
    "\n",
    "        # Enqueue other locations\n",
    "        indices.append((frm, ind1)) #fill out our lists with target indices in the right order\n",
    "        indices.append((ind2, to))\n",
    "    return lst #return sorted list\n",
    "\n",
    "\n",
    "def secondrandomized_quicksort(): #randomized quicksort, as the name suggests\n",
    "    lst = [i for i in range(N)] #take the input\n",
    "    random.shuffle(lst) #randomize (shuffle in place) the input\n",
    "    return secondqsort(lst) #then apply quicksort to the randomized input"
   ]
  },
  {
   "cell_type": "code",
   "execution_count": 28,
   "metadata": {
    "collapsed": false,
    "deletable": false,
    "nbgrader": {
     "checksum": "bd863db414089f9ead9906b3c2c34a15",
     "grade": true,
     "grade_id": "cell-1f3a6df29d324853",
     "locked": false,
     "points": 0,
     "schema_version": 1,
     "solution": true
    }
   },
   "outputs": [
   ],
   "source": [
    "#I've tested the code and it works, but it takes quite an amount of time to run for the large inputs. The trend here is clear\n",
    "\n",
    "import matplotlib.pyplot as plt\n",
    "\n",
    "firsttiming=[] #create a new list for timing corresponding to each list length\n",
    "secondtiming=[]\n",
    "for i in range(1, 50): #from 1 to first 50 consecutive positive integers\n",
    "    a=(float(timeit.timeit(firstrandomized_quicksort, number=i))+float(timeit.timeit(firstrandomized_quicksort, number=i))+float(timeit.timeit(firstrandomized_quicksort, number=i)))/3 #capture the runtime for each of the lists and average their values out; although I could average it out even more\n",
    "    firsttiming.append(a) #record the runtime for each of the lists\n",
    "    b=(float(timeit.timeit(secondrandomized_quicksort, number=i))+float(timeit.timeit(secondrandomized_quicksort, number=i))+float(timeit.timeit(secondrandomized_quicksort, number=i)))/3 #capture the runtime for each of the lists and average their values out; although I could average it out even more\n",
    "    secondtiming.append(b) #record the runtime for each of the lists\n",
    "\n",
    "plt.plot(firsttiming, secondtiming)\n",
    "plt.ylabel('running time')\n",
    "plt.xlabel('list lengths')"
   ]
  },
  {
   "cell_type": "markdown",
   "metadata": {
    "collapsed": false,
    "deletable": false,
    "editable": false,
    "nbgrader": {
     "checksum": "51af6d987694ab6231a6f4aa19f39164",
     "grade": false,
     "grade_id": "cell-67512d1d42af415f",
     "locked": true,
     "schema_version": 1,
     "solution": false
    }
   },
   "source": [
    "## Part B. Recursive quicksort [time estimate: 5 minutes]\n",
    "\n",
    "One main difference between the quicksort algorithms in Cormen et al. and the implementation in the code above is that quick sort (in the code in this notebook) is not recursive, while $QUICKSORT$ in Cormen et al. is. Given the limitation of Python so that it can only make 500 recursive calls, estimate the maximum size of the list that can be sorted by Python if a recursive quicksort is to be used. Explicitly state all assumptions you make in getting to an answer.\n"
   ]
  },
  {
   "cell_type": "markdown",
   "metadata": {
    "collapsed": false,
    "deletable": false,
    "nbgrader": {
     "checksum": "7be7bc411376ac8090621f3d68630c10",
     "grade": true,
     "grade_id": "cell-4af5aab4ad1a7225",
     "locked": false,
     "points": 0,
     "schema_version": 1,
     "solution": true
    }
   },
   "source": [
    "Unsure, but since we want to partition for the three lists - 500//3//2, where 3 is the number of lists and 2 is the number of recursive calls per each function."
   ]
  },
  {
   "cell_type": "code",
   "execution_count": 0,
   "metadata": {
    "collapsed": false
   },
   "outputs": [
   ],
   "source": [
   ]
  }
 ],
 "metadata": {
  "kernelspec": {
   "display_name": "Python 3 (system-wide)",
   "language": "python",
   "metadata": {
    "cocalc": {
     "description": "Python 3 programming language",
     "priority": 100,
     "url": "https://www.python.org/"
    }
   },
   "name": "python3"
  },
  "language_info": {
   "codemirror_mode": {
    "name": "ipython",
    "version": 3
   },
   "file_extension": ".py",
   "mimetype": "text/x-python",
   "name": "python",
   "nbconvert_exporter": "python",
   "pygments_lexer": "ipython3",
   "version": "3.8.5"
  }
 },
 "nbformat": 4,
 "nbformat_minor": 4
}