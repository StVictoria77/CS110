{
 "cells": [
  {
   "cell_type": "markdown",
   "metadata": {
    "collapsed": false
   },
   "source": [
    "Before you turn this problem in, make sure everything runs as expected. First, **restart the kernel** (in the menubar, select Kernel$\\rightarrow$Restart) and then **run all cells** (in the menubar, select Cell$\\rightarrow$Run All).\n",
    "\n",
    "Note that this Pre-class Work is estimated to take **43 minutes**.\n",
    "\n",
    "Make sure you fill in any place that says `YOUR CODE HERE` or \"YOUR ANSWER HERE\", as well as your name and collaborators below:"
   ]
  },
  {
   "cell_type": "code",
   "execution_count": 1,
   "metadata": {
    "collapsed": false
   },
   "outputs": [
   ],
   "source": [
    "NAME = \"Viktoriia Stepanenko\"\n",
    "COLLABORATORS = \"-----\""
   ]
  },
  {
   "cell_type": "markdown",
   "metadata": {
    "collapsed": false
   },
   "source": [
    "---"
   ]
  },
  {
   "cell_type": "markdown",
   "metadata": {
    "collapsed": false,
    "deletable": false,
    "editable": false,
    "nbgrader": {
     "checksum": "69e453bb44b4cfe252934bb598f44d05",
     "grade": false,
     "grade_id": "cell-3f3ec0504e39b023",
     "locked": true,
     "schema_version": 1,
     "solution": false
    }
   },
   "source": [
    "# CS110 Pre-class Work - Heaps and priority queues\n",
    "\n",
    "## Question 1. (Exercise 6.5-1 from Cormen et al.) [time estimate: 7 minutes]\n",
    "\n",
    "Illustrate the operation of $HEAP-EXTRACT-MAX$ on the heap $A= \\langle 15, 13, 9, 5, 12, 8, 7, 4, 0, 6, 2, 1 \\rangle$\n"
   ]
  },
  {
   "cell_type": "markdown",
   "metadata": {
    "collapsed": false,
    "deletable": false,
    "nbgrader": {
     "checksum": "a7f20996d6e22ca2d544500769888784",
     "grade": true,
     "grade_id": "cell-7de130b1caacd3ab",
     "locked": false,
     "points": 0,
     "schema_version": 1,
     "solution": true
    }
   },
   "source": [
    "If I were to read and adapt the pseudocode (which is my best bet at this so far), then:\n",
    "1. First, we store independently the max we want to extract: max=A[0] (the root; in this case - 15). #still, A=⟨15,13,9,5,12,8,7,4,0,6,2,1⟩\n",
    "2. Then we make the last leaf to be our root: A[0]=A[len(A)-1] #A=⟨1,13,9,5,12,8,7,4,0,6,2,1⟩\n",
    "3. Then we cut out this leaf: A=A[0:len(A)] #A=⟨1,13,9,5,12,8,7,4,0,6,2⟩\n",
    "4. And, finally, heapify for our new root to move to its place: max.heapify(A,0) #and, after a few comparison and swap operations, get something along the lines of A=⟨13,12,9,8,6,1,7,4,0,5,2⟩"
   ]
  },
  {
   "cell_type": "markdown",
   "metadata": {
    "collapsed": false,
    "deletable": false,
    "editable": false,
    "nbgrader": {
     "checksum": "d60dd22e7498fab87e01bedd8064d513",
     "grade": false,
     "grade_id": "cell-6cb98701e5a82f6b",
     "locked": true,
     "schema_version": 1,
     "solution": false
    }
   },
   "source": [
    "## Question 2. (Exercise 6.5-2 from Cormen et al.) [time estimate: 7 minutes]\n",
    "\n",
    "Illustrate the operation of $MAX-HEAP-INSERT(A, 10)$ on the heap $A=\\langle 15, 13, 9, 5, 12, 8, 7, 4, 0, 6, 2, 1\\rangle$."
   ]
  },
  {
   "cell_type": "markdown",
   "metadata": {
    "collapsed": false,
    "deletable": false,
    "nbgrader": {
     "checksum": "3652f0e0f430ec440dd4899558426c74",
     "grade": true,
     "grade_id": "cell-74f212522535433a",
     "locked": false,
     "points": 0,
     "schema_version": 1,
     "solution": true
    }
   },
   "source": [
    "1. First, we add another element as a last leaf: A.append(-100) (the large and negative one was suggested in the readings, although I believe it can really be anything, since for now we do not care about max heap property). This appended element will now have the index of len(A)-1.  #A=⟨15,13,9,5,12,8,7,4,0,6,2,1,-100⟩\n",
    "2. (Then we would engage HELP - INCREASE - KEY function).\n",
    "3. Start with updating the value of A[len(A)-1] by key, so A[len(A)-1]=10. #A=⟨15,13,9,5,12,8,7,4,0,6,2,1,10⟩\n",
    "4. Then iteratively compare our element to its parent and, if the parent is smaller than it, swap their places until our element reaches our needed place. So compare whether A[i] (with i as an updating index for our key) >A[parent(i)], and, if yes, swap, update i and compare again and again till we reach the root or the condition becomes false. #after two comparisons (first with 8 and then with 9, we will get this: A=⟨15,13,10,5,12,9,7,4,0,6,2,1,8⟩"
   ]
  },
  {
   "cell_type": "markdown",
   "metadata": {
    "collapsed": false,
    "deletable": false,
    "editable": false,
    "nbgrader": {
     "checksum": "a986c9c7d690f05369df23660265d2a0",
     "grade": false,
     "grade_id": "cell-65c8d2b5e2e9deff",
     "locked": true,
     "schema_version": 1,
     "solution": false
    }
   },
   "source": [
    "## Question 3. Implementing Priority Queues Using Max and Min Heap Data Structures [time estimate: 29 minutes]\n",
    "\n",
    "The next cell contains a Python implementation of a very basic priority queue based on a max heap data structure.<br>\n",
    "Please read and follow the <b>Instructions and Tasks</b> that are included below the next cell. These instructions and exercises will guide you through the Python code (i.e., <i><b>skip the Python code for now</b></i> and first proceed to read the instructions below the cell containing the Python code.) "
   ]
  },
  {
   "cell_type": "code",
   "execution_count": 8,
   "metadata": {
    "collapsed": false
   },
   "outputs": [
   ],
   "source": [
    "# Defining some basic binary tree functions\n",
    "def left(i):             # left(i): takes as input the array index of a parent node in the binary tree and \n",
    "    return 2*i + 1       #          returns the array index of its left child.\n",
    "\n",
    "def right(i):            # right(i): takes as input the array index of a parent node in the binary tree and \n",
    "    return 2*i + 2       #           returns the array index of its right child.\n",
    "\n",
    "def parent(i):           # parent(i): takes as input the array index of a node in the binary tree and\n",
    "    return (i-1)//2      #            returns the array index of its parent\n",
    "\n",
    "\n",
    "\n",
    "class MaxHeapq:\n",
    "    \"\"\" \n",
    "    This class implements properties and methods that support a max \n",
    "    priority queue data structure\n",
    "    \n",
    "    Attributes\n",
    "    ----------\n",
    "    heap : list\n",
    "        A Python list where key values in the max heap are stored\n",
    "        \n",
    "    heap_size : int\n",
    "        An integer counter of the number of keys present in the max heap\n",
    "        \n",
    "    \"\"\" \n",
    "    \n",
    "    \n",
    "    def __init__(self):\n",
    "        \"\"\"\n",
    "        Class initialization method.\n",
    "        \n",
    "        Note\n",
    "        ----\n",
    "        Use heapq_var = MaxHeap()\n",
    "        \n",
    "        \"\"\"\n",
    "        self.heap       = []\n",
    "        self.heap_size  = 0\n",
    "\n",
    "        \n",
    "    def maxk(self):\n",
    "        \"\"\"\n",
    "        This method returns the highest key in the priority queue\n",
    "        \n",
    "        Note\n",
    "        ----\n",
    "        Use key_var = heap_var.max()\n",
    "        \n",
    "        \"\"\"\n",
    "        return self.heap[0] \n",
    "    \n",
    "     \n",
    "    def heappush(self, key):   \n",
    "        \"\"\"\n",
    "        Inserts the value of key onto the priority queue, maintaining the\n",
    "        max heap invariant.\n",
    "        \n",
    "        Note\n",
    "        ----\n",
    "        Use heapq_var.heappush(key)\n",
    "        \n",
    "        \"\"\"\n",
    "        self.heap.append(-float(\"inf\"))\n",
    "        self.increase_key(self.heap_size,key)\n",
    "        self.heap_size+=1\n",
    "        \n",
    "        \n",
    "    def increase_key(self, i, key): \n",
    "        \"\"\"\n",
    "        This method implements the INCREASE_KEY operation, which modifies \n",
    "        the value of a key in the max priority queue with a higher value. \n",
    "        \n",
    "        Note\n",
    "        ----\n",
    "        Use heapq_var.increase_key(i, new_key)\n",
    "        \n",
    "        \"\"\"\n",
    "        if key < self.heap[i]:\n",
    "            raise ValueError('new key is smaller than the current key')\n",
    "        self.heap[i] = key\n",
    "        while i > 0 and self.heap[parent(i)] < self.heap[i]:\n",
    "            j = parent(i)\n",
    "            holder = self.heap[j]\n",
    "            self.heap[j] = self.heap[i]\n",
    "            self.heap[i] = holder\n",
    "            i = j    \n",
    "            \n",
    "        \n",
    "    def heapify(self, i):\n",
    "        \"\"\"\n",
    "        This method implements the MAX_HEAPIFY operation for the max priority\n",
    "        queue. The input is the array index of the root node of the subtree to \n",
    "        be heapify.\n",
    "        \n",
    "        Note\n",
    "        ----\n",
    "        Use heapq_var.heapify(i)\n",
    "        \n",
    "        \"\"\"\n",
    "        l = left(i)\n",
    "        r = right(i)\n",
    "        heap = self.heap\n",
    "        if l <= (self.heap_size-1) and heap[l]>heap[i]:\n",
    "            largest = l\n",
    "        else:\n",
    "            largest = i\n",
    "        if r <= (self.heap_size-1) and heap[r] > heap[largest]:\n",
    "            largest = r\n",
    "        if largest != i:\n",
    "            heap[i], heap[largest] = heap[largest], heap[i]\n",
    "            self.heapify(largest)\n",
    "\n",
    "\n",
    "    def heappop(self):\n",
    "        \"\"\"\n",
    "        This method implements the EXTRACT_MAX operation. It returns the largest\n",
    "        key in the max priority queue and removes this key from the max priority \n",
    "        queue.\n",
    "        \n",
    "        Note\n",
    "        ----\n",
    "        Use key_var = heapq_var.heappop() \n",
    "        \n",
    "        \"\"\"\n",
    "        if self.heap_size < 1:\n",
    "            raise ValueError('Heap underflow: There are no keys in the priority queue ')\n",
    "        maxk = self.heap[0]\n",
    "        self.heap[0] = self.heap[-1]\n",
    "        self.heap.pop()\n",
    "        self.heap_size-=1\n",
    "        self.heapify(0)\n",
    "        return maxk"
   ]
  },
  {
   "cell_type": "markdown",
   "metadata": {
    "collapsed": false,
    "deletable": false,
    "editable": false,
    "nbgrader": {
     "checksum": "0fe80b7551c447558abc43ec307de37e",
     "grade": false,
     "grade_id": "cell-2462e8ce46926058",
     "locked": true,
     "schema_version": 1,
     "solution": false
    }
   },
   "source": [
    "## Instructions and Tasks.\n",
    "\n",
    "The goal of these tasks is for you to learn how to implement, build, and manage priority queues in Python. \n",
    "\n",
    "First, let us practice building a max priority queue from a random list of keys.<br> \n",
    "For example, given a list of keys: [4,3,6,8,2,-5,100], we want to obtain a max priority queue that looks like this: [100, 6, 8, 3, 2, -5, 4], recall that in a max priority list the highest key should be on top (given priority). \n",
    "\n",
    "### Task 0 [time estimate: 3 minutes]\n",
    "\n",
    "Check whether the list [100, 6, 8, 3, 2, -5, 4] is indeed a max priority queue. Recall that a max priority queue data structure is based on a max heap data structure. Give a short explanation."
   ]
  },
  {
   "cell_type": "markdown",
   "metadata": {
    "collapsed": false,
    "deletable": false,
    "nbgrader": {
     "checksum": "d96ebcf5802ceeb1a33e34c5a5afe211",
     "grade": true,
     "grade_id": "cell-5e0b898075b25073",
     "locked": false,
     "points": 0,
     "schema_version": 1,
     "solution": true
    }
   },
   "source": [
    "We can start from the end of the list and compare whether each leaf is smaller than its parent until we reach the second element of the array. If the condition holds, then it is a max priority queue. For this case, it does (4<8 and -5<8; 2<6 and 3<6; 8<100 and 6<100)."
   ]
  },
  {
   "cell_type": "markdown",
   "metadata": {
    "collapsed": false,
    "deletable": false,
    "editable": false,
    "nbgrader": {
     "checksum": "82276b462bf1f43bd3e5d3f77a6c3ff9",
     "grade": false,
     "grade_id": "cell-01e1945386d515a2",
     "locked": true,
     "schema_version": 1,
     "solution": false
    }
   },
   "source": [
    "### Task 1 [time estimate: 10 minutes]\n",
    "\n",
    "The following cell uses the Python implementation of a max priority queue. This is a good time to review the Python code above and then follow the rest of these instructions."
   ]
  },
  {
   "cell_type": "code",
   "execution_count": 9,
   "metadata": {
    "collapsed": false,
    "deletable": false,
    "editable": false,
    "nbgrader": {
     "checksum": "da3a43089e2db1466a2db091855b07e0",
     "grade": false,
     "grade_id": "cell-e301a5a468f9b84e",
     "locked": true,
     "schema_version": 1,
     "solution": false
    }
   },
   "outputs": [
    {
     "name": "stdout",
     "output_type": "stream",
     "text": [
      "[100, 6, 8, 3, 2, -5, 4]\n"
     ]
    }
   ],
   "source": [
    "# GOAL: BUILD HEAP FROM [4,3,6,8,2,-5,100]\n",
    "#   Study the following lines of code, execute the cell and make sure you understand how the\n",
    "#   Python implementation of the MaxHeapq is used here and the output from these lines.\n",
    "A = [4,3,6,8,2,-5,100]\n",
    "my_heap = MaxHeapq()\n",
    "\n",
    "for key in A:\n",
    "    my_heap.heappush(key)\n",
    "\n",
    "print(my_heap.heap)"
   ]
  },
  {
   "cell_type": "markdown",
   "metadata": {
    "collapsed": false,
    "deletable": false,
    "editable": false,
    "nbgrader": {
     "checksum": "c3ea1d8efdd3151a6a3bb4f027f292b7",
     "grade": false,
     "grade_id": "cell-cf7dd96ee4eb3c43",
     "locked": true,
     "schema_version": 1,
     "solution": false
    }
   },
   "source": [
    "### Task 2 [time estimate: 3 minutes]\n",
    "\n",
    "Given the list [6,4,7,9,10,-5,-6,12,8,3,1,-10], build a max heap. You should store the Python list that represents the max heap in a variable named `my_heap_list`.\n",
    "\n"
   ]
  },
  {
   "cell_type": "code",
   "execution_count": 6,
   "metadata": {
    "collapsed": false,
    "deletable": false,
    "nbgrader": {
     "checksum": "5cfb440b6fd86152d8ec5aaf1b166156",
     "grade": false,
     "grade_id": "cell-8f1991aebb9ab87c",
     "locked": false,
     "schema_version": 1,
     "solution": true
    }
   },
   "outputs": [
   ],
   "source": [
    "#I will be honest: I have no idea how you wanted me to do this, but I tried at least 6-7 options and spent more than 30 min this night trying to understand how could I get so lost in Python classes. I could not understand how to get hold of the functions above. Good news are I have fixed my code from the last pre-class, so thank you for helping me out with your comments there :>\n",
    "\n",
    "def heapify(A, i):\n",
    "    \n",
    "    if left(i)>len(A)-1 or right(i)>len(A)-1:\n",
    "        return A\n",
    "    \n",
    "    l=left(i)\n",
    "    r=right(i)\n",
    "    largest=A[i]\n",
    "    if l<len(A) and A[l]>largest:\n",
    "        largest=A[l]\n",
    "    else:\n",
    "        largest=A[i]\n",
    "    if r<len(A) and A[r]>largest:\n",
    "        largest=A[r]\n",
    "    else:\n",
    "        largest=largest\n",
    "    if largest!=A[i]:\n",
    "        b=A.index(largest)\n",
    "        temp1=A[i]\n",
    "        temp2=A[b]\n",
    "        A[i]=temp2\n",
    "        A[b]=temp1\n",
    "    return A\n",
    "    raise NotImplementedError()"
   ]
  },
  {
   "cell_type": "code",
   "execution_count": 0,
   "metadata": {
    "collapsed": false,
    "deletable": false,
    "editable": false,
    "nbgrader": {
     "checksum": "26429f9e44e6cc1038e2742a4d470879",
     "grade": true,
     "grade_id": "cell-fa85b4b29f6da1af",
     "locked": true,
     "points": 1,
     "schema_version": 1,
     "solution": false
    }
   },
   "outputs": [
   ],
   "source": [
    "# Please ignore this cell. This cell is for us to implement the tests \n",
    "# to see if your code works properly. "
   ]
  },
  {
   "cell_type": "markdown",
   "metadata": {
    "collapsed": false,
    "deletable": false,
    "editable": false,
    "nbgrader": {
     "checksum": "9f8056e40f22478e49e5dbf9b316cb44",
     "grade": false,
     "grade_id": "cell-630703ffa2b4b776",
     "locked": true,
     "schema_version": 1,
     "solution": false
    }
   },
   "source": [
    "### Task 3 [time estimate: 10 minutes]\n",
    "\n",
    "Using the Python code that implements the class `MaxHeapq` as a reference, build a class `MinHeapq`, a min priority queue. Your class should contain the following method: `mink`, `heappush`, `decrease_key`, `heapify`, and `heappop`."
   ]
  },
  {
   "cell_type": "code",
   "execution_count": 5,
   "metadata": {
    "collapsed": false,
    "deletable": false,
    "nbgrader": {
     "checksum": "0cd32eb273c3524ad096e0817d58fac3",
     "grade": false,
     "grade_id": "cell-927eee0091ce8d12",
     "locked": false,
     "schema_version": 1,
     "solution": true
    }
   },
   "outputs": [
   ],
   "source": [
    "#this is the draft, and it seems plausible .-.\n",
    "\n",
    "class MinHeapq:\n",
    "\n",
    "    def __init__(self):\n",
    "        self.heap       = []\n",
    "        self.heap_size  = 0\n",
    "\n",
    "        \n",
    "    def mink(self): #since we do have minheap, this method will still return the root (which will be the smallest value in the heap)\n",
    "        return self.heap[0] \n",
    "    \n",
    "     \n",
    "    def heappush(self, key):\n",
    "        self.heap.append(-float(\"inf\"))\n",
    "        self.decrease_key(self.heap_size,key)\n",
    "        self.heap_size+=1\n",
    "        \n",
    "        \n",
    "    def decrease_key(self, i, key): \n",
    "        if key < self.heap[i]:\n",
    "            raise ValueError('new key is smaller than the current key')\n",
    "        self.heap[i] = key\n",
    "        while i > 0 and self.heap[parent(i)] > self.heap[i]: #compare and swap the elements if a parent is larger than the key\n",
    "            j = parent(i)\n",
    "            holder = self.heap[j]\n",
    "            self.heap[j] = self.heap[i]\n",
    "            self.heap[i] = holder\n",
    "            i = j    \n",
    "            \n",
    "        \n",
    "    def heapify(self, i): #heapify, but for smaller values to be coming up\n",
    "\n",
    "        l = left(i)\n",
    "        r = right(i)\n",
    "        heap = self.heap\n",
    "        if l <= (self.heap_size-1) and heap[l]<heap[i]:\n",
    "            smallest = l\n",
    "        else:\n",
    "            smallest = i\n",
    "        if r <= (self.heap_size-1) and heap[r] < heap[smallest]:\n",
    "            smallest = r\n",
    "        if smallest != i:\n",
    "            heap[i], heap[smallest] = heap[smallest], heap[i]\n",
    "            self.heapify(smallest)\n",
    "\n",
    "\n",
    "    def heappop(self):\n",
    "        if self.heap_size < 1:\n",
    "            raise ValueError('Heap underflow: There are no keys in the priority queue ')\n",
    "        mink = self.heap[0]\n",
    "        self.heap[0] = self.heap[-1]\n",
    "        self.heap.pop()\n",
    "        self.heap_size-=1\n",
    "        self.heapify(0)\n",
    "        return mink #taking the root, that is also the smallest number"
   ]
  },
  {
   "cell_type": "code",
   "execution_count": 0,
   "metadata": {
    "collapsed": false,
    "deletable": false,
    "editable": false,
    "nbgrader": {
     "checksum": "24bca6c047b8f9473f8bc38c57d6b0b5",
     "grade": true,
     "grade_id": "cell-94922952c1f6d73e",
     "locked": true,
     "points": 1,
     "schema_version": 1,
     "solution": false
    }
   },
   "outputs": [
   ],
   "source": [
    "# Please ignore this cell. This cell is for us to implement the tests \n",
    "# to see if your code works properly. "
   ]
  },
  {
   "cell_type": "markdown",
   "metadata": {
    "collapsed": false,
    "deletable": false,
    "editable": false,
    "nbgrader": {
     "checksum": "549d036086c8cfaf3a1c121c840a84be",
     "grade": false,
     "grade_id": "cell-a1d697aca93c202c",
     "locked": true,
     "schema_version": 1,
     "solution": false
    }
   },
   "source": [
    "### Task 4 [time estimate: 3 minutes]\n",
    "\n",
    "Use your `MinHeapq` implementation to build a min priority queue out of the list [6,4,7,9,10,-5,-6,12,8,3,1,-10]. You should store the Python list that represents the min heap in a variable named `my_heap_list`."
   ]
  },
  {
   "cell_type": "code",
   "execution_count": 3,
   "metadata": {
    "collapsed": false,
    "deletable": false,
    "nbgrader": {
     "checksum": "ce29dba864f0d616282d83cf6c2dab9f",
     "grade": false,
     "grade_id": "cell-bc27d7bf8580d64a",
     "locked": false,
     "schema_version": 1,
     "solution": true
    }
   },
   "outputs": [
   ],
   "source": [
    "# I will have to ask how to do that, given how I got lost with MaxHeapq .-.\n",
    "#raise NotImplementedError()"
   ]
  },
  {
   "cell_type": "code",
   "execution_count": 0,
   "metadata": {
    "collapsed": false,
    "deletable": false,
    "editable": false,
    "nbgrader": {
     "checksum": "c40c41c7c84c918a52ef50cac5992600",
     "grade": true,
     "grade_id": "cell-c76c6d24fa297106",
     "locked": true,
     "points": 1,
     "schema_version": 1,
     "solution": false
    }
   },
   "outputs": [
   ],
   "source": [
    "# Please ignore this cell. This cell is for us to implement the tests \n",
    "# to see if your code works properly. "
   ]
  }
 ],
 "metadata": {
  "kernelspec": {
   "display_name": "Python 3 (system-wide)",
   "language": "python",
   "metadata": {
    "cocalc": {
     "description": "Python 3 programming language",
     "priority": 100,
     "url": "https://www.python.org/"
    }
   },
   "name": "python3"
  },
  "language_info": {
   "codemirror_mode": {
    "name": "ipython",
    "version": 3
   },
   "file_extension": ".py",
   "mimetype": "text/x-python",
   "name": "python",
   "nbconvert_exporter": "python",
   "pygments_lexer": "ipython3",
   "version": "3.8.2"
  }
 },
 "nbformat": 4,
 "nbformat_minor": 4
}