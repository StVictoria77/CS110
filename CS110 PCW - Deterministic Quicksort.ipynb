{
 "cells": [
  {
   "cell_type": "markdown",
   "metadata": {
    "collapsed": false
   },
   "source": [
    "Before you turn this problem in, make sure everything runs as expected. First, **restart the kernel** (in the menubar, select Kernel$\\rightarrow$Restart) and then **run all cells** (in the menubar, select Cell$\\rightarrow$Run All).\n",
    "\n",
    "Note that this Pre-class Work is estimated to take **25 minutes**.\n",
    "\n",
    "Make sure you fill in any place that says `YOUR CODE HERE` or \"YOUR ANSWER HERE\", as well as your name and collaborators below:"
   ]
  },
  {
   "cell_type": "code",
   "execution_count": 5,
   "metadata": {
    "collapsed": false
   },
   "outputs": [
   ],
   "source": [
    "NAME = \"Viktoriia Stepanenko\"\n",
    "COLLABORATORS = \"-------------\""
   ]
  },
  {
   "cell_type": "markdown",
   "metadata": {
    "collapsed": false
   },
   "source": [
    "---"
   ]
  },
  {
   "cell_type": "markdown",
   "metadata": {
    "collapsed": false,
    "deletable": false,
    "editable": false,
    "nbgrader": {
     "checksum": "5865d2204a0c61ef0e71a78a62bd5e1a",
     "grade": false,
     "grade_id": "cell-61b183447ded09ef",
     "locked": true,
     "schema_version": 1,
     "solution": false
    }
   },
   "source": [
    "# CS110 Pre-class Work - Deterministic Quicksort\n",
    "\n",
    "## Question 1 [time estimate: 5 minutes]\n",
    "\n",
    "Using Figure 7.1 in Cormen et al. as a model, perform manually the partition process on the following list: A = [1,5,6,2,3,8,9,4,7]. You just need to specify the followings:\n",
    "1. The array after the process is done.\n",
    "2. The value of $i$ after the process is done."
   ]
  },
  {
   "cell_type": "markdown",
   "metadata": {
    "collapsed": false,
    "deletable": false,
    "nbgrader": {
     "checksum": "06dce98d07f8f042785a795b32e7ef75",
     "grade": true,
     "grade_id": "cell-7aa520f8af13679b",
     "locked": false,
     "points": 0,
     "schema_version": 1,
     "solution": true
    }
   },
   "source": [
    "I assume the question asks for the array after one iteration of the partition, where we take 7 as a pivot, and the result will not be sorted yet, but will be partitioned into three parts: smaller than 7, 7 and larger than 7, all in the same order as before, with only 7 dividing them.\n",
    "1. [1,5,6,2,3,4,7,8,9];\n",
    "2. 5 (index of the element before the new placement of 7)"
   ]
  },
  {
   "cell_type": "markdown",
   "metadata": {
    "collapsed": false,
    "deletable": false,
    "editable": false,
    "nbgrader": {
     "checksum": "21059776e9083caf84e8abb5b6fb893e",
     "grade": false,
     "grade_id": "cell-6c0a9dfd6980c336",
     "locked": true,
     "schema_version": 1,
     "solution": false
    }
   },
   "source": [
    "## Question 2 [time estimate: 7 minutes]\n",
    "\n",
    "Code up a Python implementation of `partition(A, p, r)`, closely follow the pseudo-code in Cormen et al., p.172. Your function should return the index of the pivot in the array."
   ]
  },
  {
   "cell_type": "code",
   "execution_count": 6,
   "metadata": {
    "collapsed": false,
    "deletable": false,
    "nbgrader": {
     "checksum": "395997ac94ed1416c67b22f7977c07a5",
     "grade": false,
     "grade_id": "cell-1ceb2600756c60ff",
     "locked": false,
     "schema_version": 1,
     "solution": true
    }
   },
   "outputs": [
   ],
   "source": [
    "def partition(A,p,r):\n",
    "    \"\"\"\n",
    "    Assume r<len(A) and p>=0\n",
    "    \"\"\"\n",
    "    x=A[r]\n",
    "    i=p-1\n",
    "    for j in range(p, r):\n",
    "        if A[j]<=x:\n",
    "            i=i+1\n",
    "            temp=A[j]\n",
    "            A[j]=A[i]\n",
    "            A[i]=temp\n",
    "    temp=A[r]\n",
    "    A[r]=A[i+1]\n",
    "    A[i+1]=temp\n",
    "    return i+1\n",
    "    raise NotImplementedError()"
   ]
  },
  {
   "cell_type": "code",
   "execution_count": 7,
   "metadata": {
    "collapsed": false,
    "deletable": false,
    "editable": false,
    "nbgrader": {
     "checksum": "34aa315313b6f9d8de8efe0922e5b563",
     "grade": true,
     "grade_id": "cell-a57b60117a7b82fb",
     "locked": true,
     "points": 1,
     "schema_version": 1,
     "solution": false
    }
   },
   "outputs": [
   ],
   "source": [
    "A = [1,5,6,2,3,8,9,4,7]\n",
    "assert(partition(A, 0, len(A)-1)==6)"
   ]
  },
  {
   "cell_type": "markdown",
   "metadata": {
    "collapsed": false,
    "deletable": false,
    "editable": false,
    "nbgrader": {
     "checksum": "3496e310776eba92a8290d114db627cd",
     "grade": false,
     "grade_id": "cell-cd490c45f6733522",
     "locked": true,
     "schema_version": 1,
     "solution": false
    }
   },
   "source": [
    "## Question 3 [time estimate: 3 minutes]\n",
    "\n",
    "Code up your own Python implementation of `quicksort(A, p, r)`, using `partition(A,p,r)`."
   ]
  },
  {
   "cell_type": "code",
   "execution_count": 8,
   "metadata": {
    "collapsed": false,
    "deletable": false,
    "nbgrader": {
     "checksum": "7e40c51fd1bd31c790aa0dd8abde1fb7",
     "grade": false,
     "grade_id": "cell-8c39ebb8cd1aa83a",
     "locked": false,
     "schema_version": 1,
     "solution": true
    }
   },
   "outputs": [
    {
     "data": {
      "text/plain": [
       "[1, 2, 3, 4, 5, 6, 7, 8, 9]"
      ]
     },
     "execution_count": 8,
     "metadata": {
     },
     "output_type": "execute_result"
    }
   ],
   "source": [
    "def quick_sort(A,p,r):\n",
    "    if p<r:\n",
    "        q=partition(A,p,r)\n",
    "        quick_sort(A,p,q-1)\n",
    "        quick_sort(A,q+1,r)\n",
    "    return A\n",
    "    raise NotImplementedError()\n",
    "\n",
    "A=[1,5,6,2,3,8,9,4,7]\n",
    "quick_sort(A,0,len(A)-1)"
   ]
  },
  {
   "cell_type": "code",
   "execution_count": 9,
   "metadata": {
    "collapsed": false,
    "deletable": false,
    "editable": false,
    "nbgrader": {
     "checksum": "80923d1142f0ef958a616db1105a8c1a",
     "grade": true,
     "grade_id": "cell-4f822430efd456ee",
     "locked": true,
     "points": 1,
     "schema_version": 1,
     "solution": false
    }
   },
   "outputs": [
   ],
   "source": [
    "A = [0]\n",
    "assert(quick_sort(A, 0, 0) == [0])\n",
    "A = [3,1,2]\n",
    "assert(quick_sort(A, 0, 2) == [1,2,3])"
   ]
  },
  {
   "cell_type": "markdown",
   "metadata": {
    "collapsed": false,
    "deletable": false,
    "editable": false,
    "nbgrader": {
     "checksum": "741cfe874ccaef343713f81ec963360c",
     "grade": false,
     "grade_id": "cell-53941fba9302c591",
     "locked": true,
     "schema_version": 1,
     "solution": false
    }
   },
   "source": [
    "## Question 4 [time estimate: 10 minutes] \n",
    "\n",
    "Explain (using experimental plots) the running time of `quick_sort` when: \n",
    "1. all elements of array A have the same value (e.g., [1,1,1])?\n",
    "2. array A contains distinct elements sorted in decreasing order (e.g., [5,4,2,1])?\n"
   ]
  },
  {
   "cell_type": "code",
   "execution_count": 10,
   "metadata": {
    "collapsed": false,
    "deletable": false,
    "nbgrader": {
     "checksum": "f5ddaf0e684d72d229df078b18f321f8",
     "grade": true,
     "grade_id": "cell-b58035dd5fa02329",
     "locked": false,
     "points": 0,
     "schema_version": 1,
     "solution": true
    }
   },
   "outputs": [
    {
     "data": {
      "text/plain": [
       "[<matplotlib.lines.Line2D at 0x7f0419438c10>,\n",
       " <matplotlib.lines.Line2D at 0x7f0417387d00>,\n",
       " <matplotlib.lines.Line2D at 0x7f0417387dc0>,\n",
       " <matplotlib.lines.Line2D at 0x7f0417387e80>,\n",
       " <matplotlib.lines.Line2D at 0x7f0417387f40>,\n",
       " <matplotlib.lines.Line2D at 0x7f0417391040>,\n",
       " <matplotlib.lines.Line2D at 0x7f0417391100>,\n",
       " <matplotlib.lines.Line2D at 0x7f04173911c0>]"
      ]
     },
     "execution_count": 10,
     "metadata": {
     },
     "output_type": "execute_result"
    },
    {
     "data": {
      "image/png": "[encoded data removed]",
      "text/plain": [
       "<Figure size 864x504 with 1 Axes>"
      ]
     },
     "execution_count": 10,
     "metadata": {
      "image/png": {
       "height": 411,
       "width": 703
      },
      "needs_background": "light"
     },
     "output_type": "execute_result"
    }
   ],
   "source": [
    "import matplotlib.pyplot as plt\n",
    "\n",
    "a=[]\n",
    "b=[]\n",
    "c=0\n",
    "d=0\n",
    "for i in range(0,200):\n",
    "    E=[]\n",
    "    for i in range(0,10):\n",
    "        E.append(c)\n",
    "    F=[d+30,d+27,d+20,d+15,d+12,d+9,d+4,d+1]\n",
    "    a.append(quick_sort(E,0,len(E)-1))\n",
    "    b.append(quick_sort(F,0,len(F)-1))\n",
    "plt.plot(a)\n",
    "plt.plot(b)\n",
    "\n",
    "#all the setting is ready besides outputting the step counter for the functions, with which I got confused for a sec. Will change it so the functions return the stepcounter (at quick_sort, I guess?)"
   ]
  },
  {
   "cell_type": "code",
   "execution_count": 0,
   "metadata": {
    "collapsed": false
   },
   "outputs": [
   ],
   "source": [
   ]
  }
 ],
 "metadata": {
  "kernelspec": {
   "display_name": "Python 3 (system-wide)",
   "language": "python",
   "metadata": {
    "cocalc": {
     "description": "Python 3 programming language",
     "priority": 100,
     "url": "https://www.python.org/"
    }
   },
   "name": "python3"
  },
  "language_info": {
   "codemirror_mode": {
    "name": "ipython",
    "version": 3
   },
   "file_extension": ".py",
   "mimetype": "text/x-python",
   "name": "python",
   "nbconvert_exporter": "python",
   "pygments_lexer": "ipython3",
   "version": "3.8.5"
  }
 },
 "nbformat": 4,
 "nbformat_minor": 4
}