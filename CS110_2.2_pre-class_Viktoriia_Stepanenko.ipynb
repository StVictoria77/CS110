{
 "cells": [
  {
   "cell_type": "markdown",
   "metadata": {
    "collapsed": false
   },
   "source": [
    "Before you turn this problem in, make sure everything runs as expected. First, **restart the kernel** (in the menubar, select Kernel$\\rightarrow$Restart) and then **run all cells** (in the menubar, select Cell$\\rightarrow$Run All).\n",
    "\n",
    "Note that this Pre-class Work is estimated to take **31 minutes**.\n",
    "\n",
    "Make sure you fill in any place that says `YOUR CODE HERE` or \"YOUR ANSWER HERE\", as well as your name and collaborators below:"
   ]
  },
  {
   "cell_type": "code",
   "execution_count": 11,
   "metadata": {
    "collapsed": false
   },
   "outputs": [
   ],
   "source": [
    "NAME = \"Viktoriia Stepanenko\"\n",
    "COLLABORATORS = \"------\""
   ]
  },
  {
   "cell_type": "markdown",
   "metadata": {
    "collapsed": false
   },
   "source": [
    "---"
   ]
  },
  {
   "cell_type": "markdown",
   "metadata": {
    "collapsed": false,
    "deletable": false,
    "editable": false,
    "nbgrader": {
     "checksum": "df135f0c4ea26cc7c0b25cb64a20e634",
     "grade": false,
     "grade_id": "cell-b46066345313bea6",
     "locked": true,
     "schema_version": 1,
     "solution": false
    }
   },
   "source": [
    "# CS110 Pre-class Work - Measuring algorithms' efficiency\n",
    "\n",
    "## Question 1 [time estimate: 15 minutes]\n",
    "\n",
    "Copy and paste the code for Insertion, Selection, and Bubble sort algorithms you wrote in Lesson \"Analyzing elementary sorting algorithm\" on the cells below. For each sorting algorithm, modify the code to introduce step counters. Your functions should return only the number of steps they took to sort the list. This will help you in a in-class activity for this lesson and for the PCW of the next lesson. Make sure to test your code by provinding different input lists of different sizes."
   ]
  },
  {
   "cell_type": "code",
   "execution_count": 12,
   "metadata": {
    "collapsed": false,
    "deletable": false,
    "nbgrader": {
     "checksum": "525698a22b0cee9c4cb74be2011232de",
     "grade": true,
     "grade_id": "cell-1eadb1312ac0519d",
     "locked": false,
     "points": 0,
     "schema_version": 1,
     "solution": true
    }
   },
   "outputs": [
    {
     "name": "stdout",
     "output_type": "stream",
     "text": [
      "[2, 10, 7, 5, 3, 6]\n",
      "[2, 7, 10, 5, 3, 6]\n",
      "[2, 5, 7, 10, 3, 6]\n",
      "[2, 3, 5, 7, 10, 6]\n",
      "[2, 3, 5, 6, 7, 10]\n",
      "Number of steps is 5\n",
      "[3, 5, 4]\n",
      "[3, 4, 5]\n",
      "Number of steps is 2\n",
      "[3, 9, 4, 12, 6, 10, 2, 1]\n",
      "[3, 4, 9, 12, 6, 10, 2, 1]\n",
      "[3, 4, 9, 12, 6, 10, 2, 1]\n",
      "[3, 4, 6, 9, 12, 10, 2, 1]\n",
      "[3, 4, 6, 9, 10, 12, 2, 1]\n",
      "[2, 3, 4, 6, 9, 10, 12, 1]\n",
      "[1, 2, 3, 4, 6, 9, 10, 12]\n",
      "Number of steps is 7\n"
     ]
    },
    {
     "data": {
      "text/plain": [
       "[1, 2, 3, 4, 6, 9, 10, 12]"
      ]
     },
     "execution_count": 12,
     "metadata": {
     },
     "output_type": "execute_result"
    }
   ],
   "source": [
    "def insertion_sort(A):\n",
    "    c=0\n",
    "    for j in range(1, len(A)): #!this loop goes through all the elements of the list correctly now!\n",
    "        \n",
    "        #THE BUG: the loop was starting from 3nd element of the list instead of 2nd, although we know that in Python the count of indeces starts from 0, and not 1. Thus, to start this loop correctly, we need to set the starting point of the range to 1 (so that we start with comparing the 2nd element with the first)\n",
    "        \n",
    "        key = A[j] #store the value of the element we're testing\n",
    "        i = j-1 #store the index of the element on the left from where the element we're testing is initially located | the index of the element we will be comparing to\n",
    "        while i >= 0 and A[i]>key: #1. till we reach the start of the list in our comparisons; 2. till the element on the left is larger than our element -> keep reshuffling the elements\n",
    "            A[i+1] = A[i] #move the element that was on the left to our initial position (or the position that belonged to the element of A[i+1] in the moment of the restart of the loop)\n",
    "            i -= 1 #move to the element on the left for the examination\n",
    "        A[i+1] = key #put the element we were searching the place for on the place that was \"freed\" for it by shuffling the elements from the left that were larger than it to the right\n",
    "        c+=1\n",
    "        print(A) #for me to check out how the algorithm shuffles the list\n",
    "    print('Number of steps is',c)\n",
    "    return A #return sorted list\n",
    "    raise NotImplementedError()\n",
    "\n",
    "insertion_sort([10,2,7,5,3,6])#tested and got the correct result. Before fixing the bug, all the elements were returned sorted, besides 10.\n",
    "insertion_sort([3,5,4])\n",
    "insertion_sort([9,3,4,12,6,10,2,1])"
   ]
  },
  {
   "cell_type": "code",
   "execution_count": 13,
   "metadata": {
    "collapsed": false,
    "deletable": false,
    "nbgrader": {
     "checksum": "525698a22b0cee9c4cb74be2011232de",
     "grade": true,
     "grade_id": "cell-1eadb1312ac0519d",
     "locked": false,
     "points": 0,
     "schema_version": 1,
     "solution": true
    }
   },
   "outputs": [
    {
     "name": "stdout",
     "output_type": "stream",
     "text": [
      "[10, 2, 7, 3, 5, 6]\n",
      "[10, 2, 3, 7, 5, 6]\n",
      "[2, 10, 3, 7, 5, 6]\n",
      "[2, 10, 3, 5, 7, 6]\n",
      "[2, 3, 10, 5, 7, 6]\n",
      "[2, 3, 10, 5, 6, 7]\n",
      "[2, 3, 5, 10, 6, 7]\n",
      "[2, 3, 5, 6, 10, 7]\n",
      "[2, 3, 5, 6, 7, 10]\n",
      "Number of steps is 9\n",
      "[3, 4, 5]\n",
      "Number of steps is 1\n",
      "[9, 3, 4, 12, 6, 10, 1, 2]\n",
      "[9, 3, 4, 12, 6, 1, 10, 2]\n",
      "[9, 3, 4, 12, 1, 6, 10, 2]\n",
      "[9, 3, 4, 1, 12, 6, 10, 2]\n",
      "[9, 3, 1, 4, 12, 6, 10, 2]\n",
      "[9, 1, 3, 4, 12, 6, 10, 2]\n",
      "[1, 9, 3, 4, 12, 6, 10, 2]\n",
      "[1, 9, 3, 4, 12, 6, 2, 10]\n",
      "[1, 9, 3, 4, 12, 2, 6, 10]\n",
      "[1, 9, 3, 4, 2, 12, 6, 10]\n",
      "[1, 9, 3, 2, 4, 12, 6, 10]\n",
      "[1, 9, 2, 3, 4, 12, 6, 10]\n",
      "[1, 2, 9, 3, 4, 12, 6, 10]\n",
      "[1, 2, 9, 3, 4, 6, 12, 10]\n",
      "[1, 2, 3, 9, 4, 6, 12, 10]\n",
      "[1, 2, 3, 9, 4, 6, 10, 12]\n",
      "[1, 2, 3, 4, 9, 6, 10, 12]\n",
      "[1, 2, 3, 4, 6, 9, 10, 12]\n",
      "Number of steps is 18\n"
     ]
    },
    {
     "data": {
      "text/plain": [
       "[1, 2, 3, 4, 6, 9, 10, 12]"
      ]
     },
     "execution_count": 13,
     "metadata": {
     },
     "output_type": "execute_result"
    }
   ],
   "source": [
    "def bubble_sort(A):\n",
    "    c=0\n",
    "    for i in range(0, len(A)-1): #!I have changed the i as a starting point from 1 to 0 here :/ Unsure if that was meant to be a bug or not, but it worked better for me in practice, so I left it be and highlighted for myself to double-check and ask about later. If I would leave 1 to be, then my code would not account for the first element of the list at all. Now this code goes through all of them.!\n",
    "        for j in reversed(range(i+1, len(A))): #j starts the count from the end of the list\n",
    "            if A[j]<A[j-1]: #if our element is smaller than the element on the left - swap their places\n",
    "                key=A[j]\n",
    "                A[j]=A[j-1]\n",
    "                A[j-1]=key\n",
    "                c+=1\n",
    "                print(A) #for me to check out how the algorithm shuffles the list\n",
    "            else:\n",
    "                continue\n",
    "    print('Number of steps is',c)\n",
    "    return A\n",
    "    raise NotImplementedError()\n",
    "\n",
    "bubble_sort([10,2,7,5,3,6])#tested and got the correct result. Before fixing the bug, all the elements were returned sorted, besides 10.\n",
    "bubble_sort([3,5,4])\n",
    "bubble_sort([9,3,4,12,6,10,2,1]) #THE MOST INEFFICIENT ALGORITHM, APPARENTLY :/"
   ]
  },
  {
   "cell_type": "code",
   "execution_count": 10,
   "metadata": {
    "collapsed": false,
    "deletable": false,
    "nbgrader": {
     "checksum": "525698a22b0cee9c4cb74be2011232de",
     "grade": true,
     "grade_id": "cell-1eadb1312ac0519d",
     "locked": false,
     "points": 0,
     "schema_version": 1,
     "solution": true
    }
   },
   "outputs": [
    {
     "name": "stdout",
     "output_type": "stream",
     "text": [
      "[2, 10, 7, 5, 3, 6]\n",
      "[2, 3, 7, 5, 10, 6]\n",
      "[2, 3, 5, 7, 10, 6]\n",
      "[2, 3, 5, 6, 10, 7]\n",
      "[2, 3, 5, 6, 7, 10]\n",
      "Number of steps is 5\n",
      "[3, 5, 4]\n",
      "[3, 4, 5]\n",
      "Number of steps is 2\n",
      "[1, 3, 4, 12, 6, 10, 2, 9]\n",
      "[1, 2, 4, 12, 6, 10, 3, 9]\n",
      "[1, 2, 3, 12, 6, 10, 4, 9]\n",
      "[1, 2, 3, 4, 6, 10, 12, 9]\n",
      "[1, 2, 3, 4, 6, 10, 12, 9]\n",
      "[1, 2, 3, 4, 6, 9, 12, 10]\n",
      "[1, 2, 3, 4, 6, 9, 10, 12]\n",
      "Number of steps is 7\n"
     ]
    },
    {
     "data": {
      "text/plain": [
       "[1, 2, 3, 4, 6, 9, 10, 12]"
      ]
     },
     "execution_count": 10,
     "metadata": {
     },
     "output_type": "execute_result"
    }
   ],
   "source": [
    "def selection_sort(A):\n",
    "    c=0\n",
    "    n=len(A)\n",
    "    for i in range(0, n-1): #changed the starting point once again, for the same purposes as before (the algorithm starts actually fulfilling its purpose) :/\n",
    "        minidx=i #index of the first element of the unsorted part of the row and the \"min\" that we take just as a guess and later compare to other numbers and reevaluate which one is the real min\n",
    "        for j in range(i+1, n): #go through all the other elements to check whether we need to change our judgement on what is the real min in this try\n",
    "            if A[j]<A[minidx]: #if the element we are checking in this try is smaller than what we thought was min, reassign what the min is\n",
    "                minidx=j\n",
    "            else:\n",
    "                continue\n",
    "        key=A[minidx] #once we have determined the real min, swap the places of this min with our previous guess\n",
    "        A[minidx]=A[i]\n",
    "        A[i]=key\n",
    "        c+=1\n",
    "        print(A) #for me to check out how the algorithm shuffles the list\n",
    "    print('Number of steps is',c)\n",
    "    return A\n",
    "    raise NotImplementedError()\n",
    "\n",
    "selection_sort([10,2,7,5,3,6])#tested and got the correct result. Before fixing the bug, all the elements were returned sorted, besides 10.\n",
    "selection_sort([3,5,4])\n",
    "selection_sort([9,3,4,12,6,10,2,1])"
   ]
  },
  {
   "cell_type": "markdown",
   "metadata": {
    "collapsed": false,
    "deletable": false,
    "editable": false,
    "nbgrader": {
     "checksum": "9d7a3b260b0fef93382fb52aa393f963",
     "grade": false,
     "grade_id": "cell-0ac1c20b43acb363",
     "locked": true,
     "schema_version": 1,
     "solution": false
    }
   },
   "source": [
    "## Question 2 [time estimate: 10 minutes]\n",
    "\n",
    "Studying these sorting algorithms in detail, identify for which kinds of input they would perform better or worst in completing the task of sorting a list. Give examples to complement your answer."
   ]
  },
  {
   "cell_type": "markdown",
   "metadata": {
    "collapsed": false,
    "deletable": false,
    "nbgrader": {
     "checksum": "eb02c9951e19ee43d128fa93dd53eaad",
     "grade": true,
     "grade_id": "cell-5ecb51404140cb2f",
     "locked": false,
     "points": 0,
     "schema_version": 1,
     "solution": true
    }
   },
   "source": [
    "- **Insertion Sort**\n",
    "    - Best-case input: !Besides fully sorted! Almost fully sorted, with maybe difference between middle elements so that it takes very little time to rearrange them [1,2,4,3,5] -> [1,2,3,4,5]\n",
    "    - Worst-case input: Reversely sorted [5,4,3,2,1] -> [4,5,3,2,1] -> [4,3,5,2,1]\n",
    "    \n",
    "- **Bubble Sort**\n",
    "    - Best-case input: Almost fully sorted, where the elements need little to no bubbling up (initially near their right places) [1,3,2,5,4] -> [1,3,2,4,5] -> [1,2,3,4,5]\n",
    "    - Worst-case input: Reversely sorted (will have to move each of the elements through each of the steps till their place (like making each element go up the stairs up to the last floor)) [5,4,3,2,1] -> [5,4,3,1,2] -> [5,4,1,3,2], etc.\n",
    "    \n",
    "- **Selection Sort**\n",
    "    - Best-case input: Almost fully sorted, with the minimal numbers being near minimal indeces and max numbers being near their places as well [1,3,2,5,4] -> [1,2,3,5,4] -> [1,2,3,4,5]\n",
    "    - Worst-case input: Not quite reversely sorted (since I am not sure that full reverse sort would be that bad - [5,4,3,2,1] -> [1,4,3,2,5] -> [1,2,3,4,5]), but randomly sorted on a bit more reverse side (not creative, but I don't think there is any other worst-case scenario here; the function would need to check each of the inputs till the end of unsorted part before finding new min) [5,2,4,1,3] -> [1,2,4,5,3] -> [1,2,3,5,4], etc."
   ]
  },
  {
   "cell_type": "markdown",
   "metadata": {
    "collapsed": false,
    "deletable": false,
    "editable": false,
    "nbgrader": {
     "checksum": "cb0b8b9c4b153530d47b437baa24098d",
     "grade": false,
     "grade_id": "cell-b22dce6b32afe1a9",
     "locked": true,
     "schema_version": 1,
     "solution": false
    }
   },
   "source": [
    "## Question 3 [time estimate: 3 minutes]\n",
    "\n",
    "Given your answers to the previous question, is there any algorithm that performs asymptotically the same for any kind of input? Explain your answer."
   ]
  },
  {
   "cell_type": "markdown",
   "metadata": {
    "collapsed": false,
    "deletable": false,
    "nbgrader": {
     "checksum": "4ff5af35daed9a5442ba229263bdde33",
     "grade": true,
     "grade_id": "cell-442998d5fdd8b561",
     "locked": false,
     "points": 0,
     "schema_version": 1,
     "solution": true
    }
   },
   "source": [
    "Not amongst these algorithms. If we can even identify best- and worst-case scenarios and they differ, it already means there is a difference in their running time."
   ]
  },
  {
   "cell_type": "markdown",
   "metadata": {
    "collapsed": false,
    "deletable": false,
    "editable": false,
    "nbgrader": {
     "checksum": "cb0b8b9c4b153530d47b437baa24098d",
     "grade": false,
     "grade_id": "cell-b22dce6b32afe1a9",
     "locked": true,
     "schema_version": 1,
     "solution": false
    }
   },
   "source": [
    "## Question 4 [time estimate: 3 minutes]\n",
    "\n",
    "Besides the step counters you introduced and the algorithms' running times you studied in the previous session, can you think of other metrics you could use to measure an algorithm's efficiency? Explain your reasoning."
   ]
  },
  {
   "cell_type": "markdown",
   "metadata": {
    "collapsed": false,
    "nbgrader": {
     "checksum": "4ff5af35daed9a5442ba229263bdde33",
     "grade": true,
     "grade_id": "cell-442998d5fdd8b561",
     "locked": false,
     "points": 0,
     "schema_version": 1,
     "solution": true
    }
   },
   "source": [
    "We were discussing earlier understandability/simplicity of the implementation (metric of the efficiency for the programmer) and space taken in the system (more tech-specific, but must generally serve as a good indicator to compare worst-case scenarios of the algorithms that run on the same computer)."
   ]
  }
 ],
 "metadata": {
  "kernelspec": {
   "display_name": "Python 3 (system-wide)",
   "language": "python",
   "metadata": {
    "cocalc": {
     "description": "Python 3 programming language",
     "priority": 100,
     "url": "https://www.python.org/"
    }
   },
   "name": "python3"
  },
  "language_info": {
   "codemirror_mode": {
    "name": "ipython",
    "version": 3
   },
   "file_extension": ".py",
   "mimetype": "text/x-python",
   "name": "python",
   "nbconvert_exporter": "python",
   "pygments_lexer": "ipython3",
   "version": "3.6.5"
  }
 },
 "nbformat": 4,
 "nbformat_minor": 4
}